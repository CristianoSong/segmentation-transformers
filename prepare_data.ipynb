{
 "cells": [
  {
   "cell_type": "code",
   "execution_count": 3,
   "metadata": {},
   "outputs": [
    {
     "name": "stderr",
     "output_type": "stream",
     "text": [
      "100%|██████████| 225/225 [00:28<00:00,  7.94it/s]\n",
      "100%|██████████| 225/225 [00:24<00:00,  9.01it/s]\n",
      "100%|██████████| 225/225 [00:23<00:00,  9.66it/s]\n",
      "100%|██████████| 225/225 [00:26<00:00,  8.37it/s]\n",
      "100%|██████████| 225/225 [00:26<00:00,  8.65it/s]\n",
      "100%|██████████| 225/225 [00:29<00:00,  7.74it/s]\n",
      "100%|██████████| 225/225 [00:26<00:00,  8.47it/s]\n",
      "100%|██████████| 225/225 [00:28<00:00,  8.02it/s]\n"
     ]
    }
   ],
   "source": [
    "\"\"\"\n",
    "[1] Merge masks with different instruments into one binary mask\n",
    "[2] Crop black borders from images and masks\n",
    "\"\"\"\n",
    "from pathlib import Path\n",
    "\n",
    "from tqdm import tqdm\n",
    "import cv2\n",
    "import numpy as np\n",
    "\n",
    "data_path = Path('C:/Users/Siyao/Downloads/EndoVis2017Data')\n",
    "\n",
    "train_path = data_path / 'train'\n",
    "\n",
    "cropped_train_path = data_path / 'cropped_train'\n",
    "\n",
    "original_height, original_width = 1080, 1920\n",
    "height, width = 1024, 1280\n",
    "h_start, w_start = 28, 320\n",
    "\n",
    "binary_factor = 255\n",
    "parts_factor = 85\n",
    "instrument_factor = 32\n",
    "\n",
    "\n",
    "# if __name__ == '__main__':\n",
    "for instrument_index in range(1, 9):\n",
    "    instrument_folder = 'instrument_dataset_' + str(instrument_index)\n",
    "\n",
    "    (cropped_train_path / instrument_folder / 'images').mkdir(exist_ok=True, parents=True)\n",
    "\n",
    "    binary_mask_folder = (cropped_train_path / instrument_folder / 'binary_masks')\n",
    "    binary_mask_folder.mkdir(exist_ok=True, parents=True)\n",
    "\n",
    "    parts_mask_folder = (cropped_train_path / instrument_folder / 'parts_masks')\n",
    "    parts_mask_folder.mkdir(exist_ok=True, parents=True)\n",
    "\n",
    "    instrument_mask_folder = (cropped_train_path / instrument_folder / 'instruments_masks')\n",
    "    instrument_mask_folder.mkdir(exist_ok=True, parents=True)\n",
    "\n",
    "    mask_folders = list((train_path / instrument_folder / 'ground_truth').glob('*'))\n",
    "    # mask_folders = [x for x in mask_folders if 'Other' not in str(mask_folders)]\n",
    "\n",
    "    for file_name in tqdm(list((train_path / instrument_folder / 'left_frames').glob('*'))):\n",
    "        img = cv2.imread(str(file_name))\n",
    "        old_h, old_w, _ = img.shape\n",
    "\n",
    "        img = img[h_start: h_start + height, w_start: w_start + width]\n",
    "        cv2.imwrite(str(cropped_train_path / instrument_folder / 'images' / (file_name.stem + '.jpg')), img,\n",
    "                    [cv2.IMWRITE_JPEG_QUALITY, 100])\n",
    "\n",
    "        mask_binary = np.zeros((old_h, old_w))\n",
    "        mask_parts = np.zeros((old_h, old_w))\n",
    "        mask_instruments = np.zeros((old_h, old_w))\n",
    "\n",
    "        for mask_folder in mask_folders:\n",
    "            mask = cv2.imread(str(mask_folder / file_name.name), 0)\n",
    "\n",
    "            if 'Bipolar_Forceps' in str(mask_folder):\n",
    "                mask_instruments[mask > 0] = 1\n",
    "            elif 'Prograsp_Forceps' in str(mask_folder):\n",
    "                mask_instruments[mask > 0] = 2\n",
    "            elif 'Large_Needle_Driver' in str(mask_folder):\n",
    "                mask_instruments[mask > 0] = 3\n",
    "            elif 'Vessel_Sealer' in str(mask_folder):\n",
    "                mask_instruments[mask > 0] = 4\n",
    "            elif 'Grasping_Retractor' in str(mask_folder):\n",
    "                mask_instruments[mask > 0] = 5\n",
    "            elif 'Monopolar_Curved_Scissors' in str(mask_folder):\n",
    "                mask_instruments[mask > 0] = 6\n",
    "            elif 'Other' in str(mask_folder):\n",
    "                mask_instruments[mask > 0] = 7\n",
    "\n",
    "            if 'Other' not in str(mask_folder):\n",
    "                mask_binary += mask\n",
    "\n",
    "                mask_parts[mask == 10] = 1  # Shaft\n",
    "                mask_parts[mask == 20] = 2  # Wrist\n",
    "                mask_parts[mask == 30] = 3  # Claspers\n",
    "\n",
    "        mask_binary = (mask_binary[h_start: h_start + height, w_start: w_start + width] > 0).astype(\n",
    "            np.uint8) * binary_factor\n",
    "        mask_parts = (mask_parts[h_start: h_start + height, w_start: w_start + width]).astype(\n",
    "            np.uint8) * parts_factor\n",
    "        mask_instruments = (mask_instruments[h_start: h_start + height, w_start: w_start + width]).astype(\n",
    "            np.uint8) * instrument_factor\n",
    "\n",
    "        cv2.imwrite(str(binary_mask_folder / file_name.name), mask_binary)\n",
    "        cv2.imwrite(str(parts_mask_folder / file_name.name), mask_parts)\n",
    "        cv2.imwrite(str(instrument_mask_folder / file_name.name), mask_instruments)\n"
   ]
  },
  {
   "cell_type": "code",
   "execution_count": 90,
   "metadata": {},
   "outputs": [
    {
     "name": "stderr",
     "output_type": "stream",
     "text": [
      "100%|██████████| 75/75 [00:10<00:00,  7.18it/s]\n",
      "100%|██████████| 75/75 [00:10<00:00,  7.29it/s]\n",
      "100%|██████████| 75/75 [00:10<00:00,  7.20it/s]\n",
      "100%|██████████| 75/75 [00:10<00:00,  7.19it/s]\n",
      "100%|██████████| 75/75 [00:10<00:00,  7.16it/s]\n",
      "100%|██████████| 75/75 [00:10<00:00,  7.28it/s]\n",
      "100%|██████████| 75/75 [00:09<00:00,  7.51it/s]\n",
      "100%|██████████| 75/75 [00:10<00:00,  7.27it/s]\n",
      "100%|██████████| 300/300 [00:41<00:00,  7.27it/s]\n",
      "100%|██████████| 300/300 [00:41<00:00,  7.23it/s]\n"
     ]
    }
   ],
   "source": [
    "\"\"\"\n",
    "[1] Merge masks with different instruments into one binary mask\n",
    "[2] Crop black borders from images and masks\n",
    "\"\"\"\n",
    "from pathlib import Path\n",
    "\n",
    "from tqdm import tqdm\n",
    "import cv2\n",
    "import numpy as np\n",
    "\n",
    "data_path = Path('C:/Users/Siyao/Downloads/EndoVis2017Data')\n",
    "\n",
    "test_path = data_path / 'test'\n",
    "\n",
    "cropped_test_path = data_path / 'cropped_test'\n",
    "\n",
    "original_height, original_width = 1080, 1920\n",
    "height, width = 1024, 1280\n",
    "h_start, w_start = 28, 320\n",
    "\n",
    "binary_factor = 255\n",
    "parts_factor = 85\n",
    "instrument_factor = 32\n",
    "\n",
    "\n",
    "# if __name__ == '__main__':\n",
    "for instrument_index in range(1, 11):\n",
    "    instrument_folder = 'instrument_dataset_' + str(instrument_index)\n",
    "\n",
    "    (cropped_test_path / instrument_folder / 'images').mkdir(exist_ok=True, parents=True)\n",
    "\n",
    "    binary_mask_folder = (cropped_test_path / instrument_folder / 'binary_masks')\n",
    "    binary_mask_folder.mkdir(exist_ok=True, parents=True)\n",
    "\n",
    "    parts_mask_folder = (cropped_test_path / instrument_folder / 'parts_masks')\n",
    "    parts_mask_folder.mkdir(exist_ok=True, parents=True)\n",
    "\n",
    "    instrument_mask_folder = (cropped_test_path / instrument_folder / 'instruments_masks')\n",
    "    instrument_mask_folder.mkdir(exist_ok=True, parents=True)\n",
    "\n",
    "    mask_folders = list((test_path / instrument_folder / 'ground_truth').glob('*'))\n",
    "    # mask_folders = [x for x in mask_folders if 'Other' not in str(mask_folders)]\n",
    "\n",
    "    for file_name in tqdm(list((test_path / instrument_folder / 'left_frames').glob('*'))):\n",
    "        img = cv2.imread(str(file_name))\n",
    "        old_h, old_w, _ = img.shape\n",
    "\n",
    "        img = img[h_start: h_start + height, w_start: w_start + width]\n",
    "        cv2.imwrite(str(cropped_test_path / instrument_folder / 'images' / (file_name.stem + '.jpg')), img,\n",
    "                    [cv2.IMWRITE_JPEG_QUALITY, 100])\n",
    "\n",
    "        binary_name = file_name.parent.parent / 'BinarySegmentation' / (file_name.stem + '.png') \n",
    "        parts_name = file_name.parent.parent / 'PartsSegmentation' / (file_name.stem + '.png')\n",
    "        instruments_name = file_name.parent.parent / 'TypeSegmentation' / (file_name.stem + '.png') \n",
    "\n",
    "        mask_binary = cv2.imread(str(binary_name)) / binary_factor\n",
    "        mask_parts = cv2.imread(str(parts_name))\n",
    "        mask_instruments = cv2.imread(str(instruments_name))\n",
    "\n",
    "        mask_parts[mask_parts==30] = 1  # Shaft\n",
    "        mask_parts[mask_parts==100] = 2  # Wrist\n",
    "        mask_parts[mask_parts==255] = 3  # Claspers\n",
    "\n",
    "\n",
    "        mask_binary = (mask_binary[h_start: h_start + height, w_start: w_start + width] ).astype(\n",
    "            np.uint8) * binary_factor\n",
    "        mask_parts = (mask_parts[h_start: h_start + height, w_start: w_start + width]).astype(\n",
    "            np.uint8) * parts_factor\n",
    "        mask_instruments = (mask_instruments[h_start: h_start + height, w_start: w_start + width]).astype(\n",
    "            np.uint8) * instrument_factor\n",
    "\n",
    "        cv2.imwrite(str(binary_mask_folder / file_name.name), mask_binary)\n",
    "        cv2.imwrite(str(parts_mask_folder / file_name.name), mask_parts)\n",
    "        cv2.imwrite(str(instrument_mask_folder / file_name.name), mask_instruments)\n"
   ]
  },
  {
   "cell_type": "code",
   "execution_count": 87,
   "metadata": {},
   "outputs": [
    {
     "data": {
      "text/plain": [
       "WindowsPath('C:/Users/Siyao/Downloads/EndoVis2017Data/test/instrument_dataset_1/BinarySegmentation/frame225png')"
      ]
     },
     "execution_count": 87,
     "metadata": {},
     "output_type": "execute_result"
    }
   ],
   "source": [
    "frame_name = Path(\"C:/Users/Siyao/Downloads/EndoVis2017Data/test/instrument_dataset_1/left_frames/frame225.png\")\n",
    "binary_name = frame_name.parent.parent / 'BinarySegmentation' / (file_name.stem + '.png') \n",
    "binary_name"
   ]
  },
  {
   "cell_type": "code",
   "execution_count": 15,
   "metadata": {},
   "outputs": [],
   "source": [
    "from pathlib import Path\n",
    "import matplotlib.pyplot as plt \n",
    "from tqdm import tqdm\n",
    "import cv2\n",
    "import numpy as np\n",
    "import torch"
   ]
  },
  {
   "cell_type": "code",
   "execution_count": 48,
   "metadata": {},
   "outputs": [
    {
     "data": {
      "text/plain": [
       "'frame259'"
      ]
     },
     "execution_count": 48,
     "metadata": {},
     "output_type": "execute_result"
    }
   ],
   "source": [
    "imagefile = Path(\"C:/Users/Siyao/Downloads/EndoVis2017Data/test/instrument_dataset_1/TypeSegmentationRescaled/frame259.png\")\n",
    "# imagefile.parent.parent / \"left_frames\" / \"frame225.png\"\n",
    "imagefile.stem"
   ]
  },
  {
   "cell_type": "code",
   "execution_count": 84,
   "metadata": {},
   "outputs": [
    {
     "data": {
      "text/plain": [
       "(torch.Size([1080, 1920, 3]), tensor([  0,  30, 100, 255], dtype=torch.uint8))"
      ]
     },
     "execution_count": 84,
     "metadata": {},
     "output_type": "execute_result"
    },
    {
     "data": {
      "image/png": "[encoded data removed]",
      "text/plain": [
       "<Figure size 432x288 with 1 Axes>"
      ]
     },
     "metadata": {
      "needs_background": "light"
     },
     "output_type": "display_data"
    }
   ],
   "source": [
    "mask_ins = cv2.imread(\"C:/Users/Siyao/Downloads/EndoVis2017Data/test/instrument_dataset_9/PartsSegmentation/frame139.png\")\n",
    "# mask_ins = cv2.imread(\"C:/Users/Siyao/Downloads/EndoVis2017Data/cropped_train/instrument_dataset_5/parts_masks/frame117.png\")\n",
    "\n",
    "mask_ins = torch.from_numpy(mask_ins)\n",
    "plt.imshow(mask_ins)\n",
    "mask_ins.shape, mask_ins.unique()"
   ]
  },
  {
   "cell_type": "code",
   "execution_count": 36,
   "metadata": {},
   "outputs": [
    {
     "data": {
      "text/plain": [
       "<matplotlib.image.AxesImage at 0x20f23d9c5e0>"
      ]
     },
     "execution_count": 36,
     "metadata": {},
     "output_type": "execute_result"
    },
    {
     "data": {
      "image/png": "[encoded data removed]",
      "text/plain": [
       "<Figure size 432x288 with 1 Axes>"
      ]
     },
     "metadata": {
      "needs_background": "light"
     },
     "output_type": "display_data"
    }
   ],
   "source": [
    "mask_ins.unique()\n",
    "mask_ins_2d = torch.sum(mask_ins, dim=2)\n",
    "mask_ins_2d.unique()\n",
    "plt.imshow(mask_ins_2d*32)"
   ]
  },
  {
   "cell_type": "markdown",
   "metadata": {},
   "source": [
    "## ENDOVIS2018 Label Convert"
   ]
  },
  {
   "cell_type": "code",
   "execution_count": 22,
   "metadata": {},
   "outputs": [
    {
     "name": "stderr",
     "output_type": "stream",
     "text": [
      "100%|██████████| 149/149 [00:32<00:00,  4.54it/s]\n",
      "100%|██████████| 149/149 [00:32<00:00,  4.60it/s]\n",
      "100%|██████████| 149/149 [00:32<00:00,  4.61it/s]\n",
      "100%|██████████| 149/149 [00:32<00:00,  4.60it/s]\n",
      "100%|██████████| 149/149 [00:32<00:00,  4.53it/s]\n",
      "100%|██████████| 149/149 [00:32<00:00,  4.61it/s]\n",
      "100%|██████████| 149/149 [00:32<00:00,  4.62it/s]\n",
      "0it [00:00, ?it/s]\n",
      "100%|██████████| 149/149 [00:32<00:00,  4.63it/s]\n",
      "100%|██████████| 149/149 [00:32<00:00,  4.62it/s]\n",
      "100%|██████████| 149/149 [00:32<00:00,  4.59it/s]\n",
      "100%|██████████| 149/149 [00:32<00:00,  4.61it/s]\n",
      "100%|██████████| 149/149 [00:32<00:00,  4.57it/s]\n",
      "100%|██████████| 149/149 [00:32<00:00,  4.61it/s]\n",
      "100%|██████████| 149/149 [00:32<00:00,  4.60it/s]\n",
      "100%|██████████| 149/149 [00:32<00:00,  4.54it/s]\n"
     ]
    }
   ],
   "source": [
    "import json\n",
    "import torch\n",
    "import cv2\n",
    "import numpy as np\n",
    "from pathlib import Path\n",
    "from tqdm import tqdm\n",
    "import matplotlib.pyplot as plt \n",
    "\n",
    "\n",
    "data_path = Path(\"C:/Users/Siyao/Downloads/MICCAI2018\")\n",
    "\n",
    "labels_json = data_path / 'labels.json'\n",
    "with open(labels_json) as file:\n",
    "    labels_map = json.load(file)\n",
    "    \n",
    "cmap = {}\n",
    "for item in labels_map:\n",
    "    color = item['color']\n",
    "    color.reverse()\n",
    "    classid = item['classid']\n",
    "    cmap[tuple(color)] = classid\n",
    "\n",
    "for rgb in cmap:\n",
    "    if cmap[rgb] > 3:\n",
    "        cmap[rgb] = 0\n",
    "\n",
    "def rgb2msk(label):\n",
    "    mask = np.zeros(label.shape[:2], dtype=np.int8)\n",
    "    for rgb in cmap:\n",
    "        mask[(label==rgb).all(axis=2)] = cmap[rgb]\n",
    "    return mask\n",
    "\n",
    "for seq_id in range(1,17):\n",
    "    seq_folder = data_path / ('seq_' + str(seq_id))\n",
    "    gt_folder = (seq_folder / 'masks')\n",
    "    gt_folder.mkdir(exist_ok=True, parents=True)\n",
    "    for file_name in tqdm(list((data_path / ('seq_' + str(seq_id)) / 'left_frames').glob('*'))):\n",
    "        label = cv2.imread(str(file_name).replace('left_frames', 'labels'))\n",
    "        mask = rgb2msk(label)\n",
    "        cv2.imwrite(str(gt_folder / file_name.name), mask)\n"
   ]
  },
  {
   "cell_type": "code",
   "execution_count": 17,
   "metadata": {},
   "outputs": [
    {
     "data": {
      "text/plain": [
       "True"
      ]
     },
     "execution_count": 17,
     "metadata": {},
     "output_type": "execute_result"
    }
   ],
   "source": [
    "seq_id = 1\n",
    "seq_folder = data_path / ('seq_' + str(seq_id))\n",
    "gt_folder = (seq_folder / 'masks')\n",
    "file = gt_folder / 'frame001.png'\n",
    "label = cv2.imread(str(file).replace('masks', 'labels'))\n",
    "mask = rgb2msk(label)\n",
    "cv2.imwrite(str(gt_folder / file.name), mask)"
   ]
  },
  {
   "cell_type": "code",
   "execution_count": 12,
   "metadata": {},
   "outputs": [
    {
     "data": {
      "text/plain": [
       "<matplotlib.image.AxesImage at 0x255991a81c0>"
      ]
     },
     "execution_count": 12,
     "metadata": {},
     "output_type": "execute_result"
    },
    {
     "data": {
      "image/png": "[encoded data removed]",
      "text/plain": [
       "<Figure size 432x288 with 1 Axes>"
      ]
     },
     "metadata": {
      "needs_background": "light"
     },
     "output_type": "display_data"
    }
   ],
   "source": [
    "plt.imshow(label)"
   ]
  },
  {
   "cell_type": "code",
   "execution_count": 21,
   "metadata": {},
   "outputs": [
    {
     "data": {
      "text/plain": [
       "<matplotlib.image.AxesImage at 0x25598a58550>"
      ]
     },
     "execution_count": 21,
     "metadata": {},
     "output_type": "execute_result"
    },
    {
     "data": {
      "image/png": "[encoded data removed]",
      "text/plain": [
       "<Figure size 432x288 with 1 Axes>"
      ]
     },
     "metadata": {
      "needs_background": "light"
     },
     "output_type": "display_data"
    }
   ],
   "source": [
    "saved = cv2.imread(str(gt_folder / file.name),cv2.IMREAD_UNCHANGED)\n",
    "saved.shape\n",
    "plt.imshow(saved)"
   ]
  }
 ],
 "metadata": {
  "interpreter": {
   "hash": "23d8489b17aa989cee42bd3f3e82cc035b4cfa42fa1ea343caf5051171f57614"
  },
  "kernelspec": {
   "display_name": "Python 3.8.8 64-bit ('datasci': conda)",
   "name": "python3"
  },
  "language_info": {
   "codemirror_mode": {
    "name": "ipython",
    "version": 3
   },
   "file_extension": ".py",
   "mimetype": "text/x-python",
   "name": "python",
   "nbconvert_exporter": "python",
   "pygments_lexer": "ipython3",
   "version": "3.8.8"
  },
  "orig_nbformat": 4
 },
 "nbformat": 4,
 "nbformat_minor": 2
}
