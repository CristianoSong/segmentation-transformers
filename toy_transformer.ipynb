{
 "cells": [
  {
   "cell_type": "markdown",
   "source": [
    "# Toy Transformer \r\n",
    "This file has been created to understand the attention/transformer structure and basic method to build transformer in PyTorch.  \""
   ],
   "metadata": {}
  },
  {
   "cell_type": "markdown",
   "source": [
    "## 0. Preparation - package import"
   ],
   "metadata": {}
  },
  {
   "cell_type": "code",
   "execution_count": 1,
   "source": [
    "import os\r\n",
    "import json\r\n",
    "import torch\r\n",
    "import random\r\n",
    "from pathlib import Path\r\n",
    "from torch.utils.data import Dataset\r\n",
    "from torch.nn.utils.rnn import pad_sequence"
   ],
   "outputs": [],
   "metadata": {}
  },
  {
   "cell_type": "markdown",
   "source": [
    "## 1. Dataset and Dataloader"
   ],
   "metadata": {}
  },
  {
   "cell_type": "code",
   "execution_count": null,
   "source": [
    "class myDataset(Dataset):\r\n",
    "    def __init__(self. data_dir, segment_len=128):\r\n",
    "        super().__init__()"
   ],
   "outputs": [],
   "metadata": {}
  },
  {
   "cell_type": "markdown",
   "source": [
    "## 1. Model Basic Structure"
   ],
   "metadata": {}
  },
  {
   "cell_type": "code",
   "execution_count": null,
   "source": [
    "class EncoderDecoder(nn.Module):\r\n",
    "    \"\"\"\r\n",
    "    A basic Encoder-Decoder architecture.\r\n",
    "    \"\"\"\r\n",
    "    def __init__(self, encoder, decoder, src_embed, tgt_embed, generator):\r\n",
    "        super(EncoderDecoder, self).__init__()\r\n",
    "        self.encoder = encoder\r\n",
    "        self.decoder = decoder\r\n",
    "        self.src_embed = src_embed\r\n",
    "        self.tgt_embed = tgt_embed\r\n",
    "        self.generator = generator\r\n",
    "\r\n",
    "   def forward(self, src, tgt, src_mask, tgt_mask):"
   ],
   "outputs": [],
   "metadata": {}
  }
 ],
 "metadata": {
  "orig_nbformat": 4,
  "language_info": {
   "name": "python",
   "version": "3.8.8",
   "mimetype": "text/x-python",
   "codemirror_mode": {
    "name": "ipython",
    "version": 3
   },
   "pygments_lexer": "ipython3",
   "nbconvert_exporter": "python",
   "file_extension": ".py"
  },
  "kernelspec": {
   "name": "python3",
   "display_name": "Python 3.8.8 64-bit ('datasci': conda)"
  },
  "interpreter": {
   "hash": "23d8489b17aa989cee42bd3f3e82cc035b4cfa42fa1ea343caf5051171f57614"
  }
 },
 "nbformat": 4,
 "nbformat_minor": 2
}