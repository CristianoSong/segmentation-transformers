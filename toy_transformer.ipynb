{
 "cells": [
  {
   "cell_type": "markdown",
   "source": [
    "# Toy Transformer \r\n",
    "This file has been created to understand the attention/transformer structure and basic method to build transformer in PyTorch.  "
   ],
   "metadata": {}
  },
  {
   "cell_type": "markdown",
   "source": [],
   "metadata": {}
  }
 ],
 "metadata": {
  "orig_nbformat": 4,
  "language_info": {
   "name": "python"
  }
 },
 "nbformat": 4,
 "nbformat_minor": 2
}