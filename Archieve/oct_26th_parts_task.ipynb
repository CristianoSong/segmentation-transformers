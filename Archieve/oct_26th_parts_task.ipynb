{
 "cells": [
  {
   "cell_type": "markdown",
   "metadata": {},
   "source": [
    "### Oct 26th - Parts Task (5 Classes)\n",
    "- Try Try\n",
    "- Include visualization in each layer"
   ]
  },
  {
   "cell_type": "code",
   "execution_count": 2,
   "metadata": {},
   "outputs": [],
   "source": [
    "import os\n",
    "import json\n",
    "import torch\n",
    "import random\n",
    "import cv2\n",
    "import math\n",
    "import numpy as np\n",
    "import torchvision\n",
    "from pathlib import Path\n",
    "from torch import nn\n",
    "from torch import optim\n",
    "import torch.utils.data as Data\n",
    "from torch.utils.data import Dataset\n",
    "from torch.nn.utils.rnn import pad_sequence\n",
    "from torch.nn import functional as F\n",
    "from torchvision import models, transforms\n",
    "import matplotlib.pyplot as plt \n",
    "import matplotlib\n",
    "import tqdm\n",
    "from sklearn.metrics import jaccard_score\n",
    "\n",
    "%matplotlib inline\n",
    "\n",
    "device = torch.device(\"cuda\" if torch.cuda.is_available() else \"cpu\")"
   ]
  },
  {
   "cell_type": "markdown",
   "metadata": {},
   "source": [
    "## Data Preparing"
   ]
  },
  {
   "cell_type": "code",
   "execution_count": 3,
   "metadata": {},
   "outputs": [],
   "source": [
    "data_path = Path(\"C:/Users/Siyao/Downloads/EndoVis2017Data\")\n",
    "train_path = data_path / \"cropped_train\"\n",
    "\n",
    "def get_split(fold):\n",
    "    \"\"\"Split train and valid dataset based on the No. of folder\"\"\"\n",
    "    folds = {0: [1, 3],\n",
    "             1: [2, 5],\n",
    "             2: [4, 8],\n",
    "             3: [6, 7]}\n",
    "    train_path = data_path / 'cropped_train'\n",
    "\n",
    "    train_file_names = []\n",
    "    val_file_names = []\n",
    "\n",
    "    for instrument_id in range(1, 9):\n",
    "        if instrument_id in folds[fold]:\n",
    "            val_file_names += list((train_path / ('instrument_dataset_' + str(instrument_id)) / 'images').glob('*'))\n",
    "        else:\n",
    "            train_file_names += list((train_path / ('instrument_dataset_' + str(instrument_id)) / 'images').glob('*'))\n",
    "\n",
    "    return train_file_names, val_file_names\n",
    "\n",
    "train_file_names, val_file_names = get_split(0)\n",
    "\n",
    "def load_image(path):\n",
    "    img = cv2.imread(str(path))\n",
    "    return cv2.cvtColor(img, cv2.COLOR_BGR2RGB)\n",
    "\n",
    "binary_factor = 255\n",
    "parts_factor = 85\n",
    "instrument_factor = 32\n",
    "\n",
    "def load_mask(path, problem_type=\"binary\", mask_folder=\"instruments_masks\",factor=instrument_factor):\n",
    "    if problem_type == 'binary':\n",
    "        mask_folder = 'binary_masks'\n",
    "        factor = binary_factor\n",
    "    elif problem_type == 'parts':\n",
    "        mask_folder = 'parts_masks'\n",
    "        factor = parts_factor\n",
    "    elif problem_type == 'instruments':\n",
    "        factor = instrument_factor\n",
    "        mask_folder = 'instruments_masks'\n",
    "\n",
    "    mask = cv2.imread(str(path).replace('images', mask_folder).replace('jpg', 'png'), 0)\n",
    "\n",
    "    return (mask / factor).astype(np.uint8)"
   ]
  },
  {
   "cell_type": "code",
   "execution_count": 9,
   "metadata": {},
   "outputs": [],
   "source": [
    "tau = 3\n",
    "train_img_path = [str(i) for i in train_file_names]\n",
    "train_frame_name = [i for i in train_img_path if int(i[-7:-4])>=tau-1]\n",
    "valid_img_path = [str(i) for i in val_file_names] \n",
    "valid_frame_name = [i for i in valid_img_path if int(i[-7:-4])>=tau-1]\n",
    "\n",
    "class InstrumentDataset(Dataset):\n",
    "    \"\"\"Dataset that loads multiple frame\"\"\"\n",
    "\n",
    "    def __init__(self, file_names, problem_type=\"binary\", tau=5):\n",
    "        self.file_names = file_names\n",
    "        self.problem_type = problem_type\n",
    "        self.tau = tau      # tau is the number of frames should be combiend\n",
    "        self.transform = transforms.Compose([\n",
    "                                transforms.ToPILImage(),\n",
    "                                transforms.Resize([256,320]),\n",
    "                                transforms.ToTensor()\n",
    "                            ]) \n",
    "    def __len__(self):\n",
    "        return len(self.file_names)\n",
    "\n",
    "    def __getitem__(self, idx):\n",
    "        current_frame = self.file_names[idx]\n",
    "        # mask = load_mask(current_frame, self.problem_type)\n",
    "        # mask = self.transform(mask)\n",
    "        frames_ls = []\n",
    "        masks_ls = []\n",
    "        preds_ls = []\n",
    "        for i in range(tau):\n",
    "            to_find = \"frame\"+current_frame[-7:-4]\n",
    "            to_repl = \"frame\"+ '%03d' % (int(current_frame[-7:-4])-i)\n",
    "            frame = current_frame.replace(to_find, to_repl)\n",
    "            frame_array = load_image(frame)\n",
    "            frame_tensor = self.transform(frame_array)\n",
    "            mask_array = load_mask(frame,problem_type=self.problem_type)\n",
    "            mask_tensor = torch.from_numpy(mask_array)\n",
    "            # mask_tensor = self.transform(mask_array)\n",
    "            # Change the value in mask to 1 - 0 \n",
    "            # mask_tensor = torch.where(mask_tensor>0,1,0) \n",
    "            prediction = frame.replace(\"images\",\"prediction_temp\").replace(\".jpg\",\".pt\")\n",
    "            try:\n",
    "                torch.load(prediction)\n",
    "            except:\n",
    "                pred_tensor = torch.zeros(5,32,40)\n",
    "            else:\n",
    "                pred_tensor = torch.load(prediction)        \n",
    "            frames_ls.append(frame_tensor)\n",
    "            masks_ls.append(mask_tensor)\n",
    "            preds_ls.append(pred_tensor)\n",
    "        frames_stack = torch.stack(frames_ls, 0)\n",
    "        masks_stack = torch.stack(masks_ls, 0)\n",
    "        preds_stack = torch.stack(preds_ls, 0)\n",
    "        # permute the tensor from [tau, H, W, C] to [tau, C, H, W]\n",
    "        # frames_tensor = frames_stack.permute(0,3,1,2) \n",
    "        return frames_stack.float(), masks_stack.long(), preds_stack.float(), str(current_frame)"
   ]
  },
  {
   "cell_type": "code",
   "execution_count": 10,
   "metadata": {},
   "outputs": [],
   "source": [
    "training_data_frames = InstrumentDataset(train_frame_name,problem_type=\"parts\",tau=tau)\n",
    "valid_data_frames = InstrumentDataset(valid_frame_name,problem_type=\"parts\",tau=tau)\n",
    "\n",
    "batch_size = 1\n",
    "training_data_loader = Data.DataLoader(training_data_frames, batch_size=batch_size, shuffle=False)\n",
    "valid_data_loader = Data.DataLoader(valid_data_frames, batch_size=batch_size, shuffle=False)"
   ]
  },
  {
   "cell_type": "code",
   "execution_count": 11,
   "metadata": {},
   "outputs": [
    {
     "name": "stdout",
     "output_type": "stream",
     "text": [
      "Data shape: torch.Size([1, 3, 3, 256, 320])\n",
      "Mask shape: torch.Size([1, 3, 1024, 1280])\n",
      "Pred shape: torch.Size([1, 3, 5, 32, 40])\n",
      "Path: ('C:\\\\Users\\\\Siyao\\\\Downloads\\\\EndoVis2017Data\\\\cropped_train\\\\instrument_dataset_2\\\\images\\\\frame002.jpg',)\n"
     ]
    }
   ],
   "source": [
    "a,b,b0,c = next(iter(training_data_loader))\n",
    "print(f\"Data shape: {a.shape}\")\n",
    "print(f\"Mask shape: {b.shape}\")\n",
    "print(f\"Pred shape: {b0.shape}\")\n",
    "print(f\"Path: {c}\")"
   ]
  },
  {
   "cell_type": "code",
   "execution_count": 12,
   "metadata": {},
   "outputs": [
    {
     "data": {
      "text/plain": [
       "<matplotlib.image.AxesImage at 0x1ea08a11d60>"
      ]
     },
     "execution_count": 12,
     "metadata": {},
     "output_type": "execute_result"
    },
    {
     "data": {
      "image/png": "[encoded data removed]",
      "text/plain": [
       "<Figure size 432x288 with 1 Axes>"
      ]
     },
     "metadata": {
      "needs_background": "light"
     },
     "output_type": "display_data"
    }
   ],
   "source": [
    "plt.imshow(b[0][0])"
   ]
  },
  {
   "cell_type": "markdown",
   "metadata": {},
   "source": [
    "## Model"
   ]
  },
  {
   "cell_type": "code",
   "execution_count": 13,
   "metadata": {},
   "outputs": [],
   "source": [
    "class CNNBackbone(nn.Module):\n",
    "    def __init__(self, model=\"resnet101\", pretrained=True):\n",
    "        super(CNNBackbone, self).__init__()\n",
    "        self.model_name = model\n",
    "        self.pretrained = pretrained\n",
    "        if self.model_name == \"resnet101\" and pretrained:\n",
    "            model = models.resnet101(pretrained=True)\n",
    "            self.cnn = torch.nn.Sequential(*(list(model.children())[:-4])).eval()\n",
    "        else:\n",
    "            raise NotImplementedError(\"Please use some pretrained CNN models\")\n",
    "        for param in self.cnn.parameters():\n",
    "            param.requires_grad = False\n",
    "        \n",
    "    def forward(self, x):\n",
    "        y = self.cnn(x[0])\n",
    "        out = y.unsqueeze(0)\n",
    "        # out.shape = [batch_size, T, C, H, W] = [1, T, 1024, 16, 20]\n",
    "        return out"
   ]
  },
  {
   "cell_type": "code",
   "execution_count": 14,
   "metadata": {},
   "outputs": [],
   "source": [
    "class PositionalEncoding3D(nn.Module):\n",
    "    \"\"\"https://github.com/tatp22/multidim-positional-encoding/blob/master/positional_encodings/positional_encodings.py\"\"\"\n",
    "    \n",
    "    def __init__(self, channels=512):\n",
    "        super(PositionalEncoding3D, self).__init__()\n",
    "        channels = int(np.ceil(channels/6)*2)\n",
    "        if channels % 2:\n",
    "            channels += 1\n",
    "        self.channels = channels\n",
    "        inv_freq = 1. / (10000 ** (torch.arange(0, channels, 2).float() / channels))\n",
    "        self.register_buffer('inv_freq', inv_freq)\n",
    "\n",
    "    def forward(self, tensor):\n",
    "        # Input tensor shape: [batch_size, T, C, H, W] \n",
    "        \"\"\"\n",
    "        :param tensor: A 5d tensor of size (batch_size, x, y, z, ch)\n",
    "        :return: Positional Encoding Matrix of size (batch_size, x, y, z, ch)\n",
    "        \"\"\"\n",
    "        tensor = tensor.permute(0, 4, 3, 1, 2)\n",
    "        if len(tensor.shape) != 5:\n",
    "            raise RuntimeError(\"The input tensor has to be 5d!\")\n",
    "\n",
    "        batch_size, x, y, z, orig_ch = tensor.shape\n",
    "        pos_x = torch.arange(x, device=tensor.device).type(self.inv_freq.type())\n",
    "        pos_y = torch.arange(y, device=tensor.device).type(self.inv_freq.type())\n",
    "        pos_z = torch.arange(z, device=tensor.device).type(self.inv_freq.type())\n",
    "        sin_inp_x = torch.einsum(\"i,j->ij\", pos_x, self.inv_freq)\n",
    "        sin_inp_y = torch.einsum(\"i,j->ij\", pos_y, self.inv_freq)\n",
    "        sin_inp_z = torch.einsum(\"i,j->ij\", pos_z, self.inv_freq)\n",
    "        emb_x = torch.cat((sin_inp_x.sin(), sin_inp_x.cos()), dim=-1).unsqueeze(1).unsqueeze(1)\n",
    "        emb_y = torch.cat((sin_inp_y.sin(), sin_inp_y.cos()), dim=-1).unsqueeze(1)\n",
    "        emb_z = torch.cat((sin_inp_z.sin(), sin_inp_z.cos()), dim=-1)\n",
    "        emb = torch.zeros((x,y,z,self.channels*3),device=tensor.device).type(tensor.type())\n",
    "        emb[:,:,:,:self.channels] = emb_x\n",
    "        emb[:,:,:,self.channels:2*self.channels] = emb_y\n",
    "        emb[:,:,:,2*self.channels:] = emb_z\n",
    "        out = emb[None,:,:,:,:orig_ch].repeat(batch_size, 1, 1, 1, 1)\n",
    "        out = out.permute(0, 3, 4, 2, 1)\n",
    "        return out"
   ]
  },
  {
   "cell_type": "code",
   "execution_count": 15,
   "metadata": {},
   "outputs": [],
   "source": [
    "class SparseAttention(nn.Module):\n",
    "    \"\"\"Sparse Self Attention Module\"\"\"\n",
    "    def __init__(self, in_dim=512):\n",
    "        \"\"\"The only iuput attribute is dimension\"\"\"\n",
    "        super(SparseAttention, self).__init__()\n",
    "        self.query_conv = nn.Conv3d(in_channels=in_dim, out_channels=in_dim//8, kernel_size=1)\n",
    "        self.key_conv = nn.Conv3d(in_channels=in_dim, out_channels=in_dim//8, kernel_size=1)\n",
    "        self.value_conv = nn.Conv3d(in_channels=in_dim, out_channels=in_dim, kernel_size=1)\n",
    "        self.softmax = nn.Softmax(dim=4)\n",
    "        self.gamma = nn.Parameter(torch.ones(1))\n",
    "        self.affinity = torch.zeros(0)\n",
    "        self.obj_affinity = torch.zeros(0)\n",
    "\n",
    "    def forward(self, x, m):\n",
    "        # Input tensor shape: [batch_size, T, channel, H, W] \n",
    "        # Permute x to : [batch_size, channel, H, W, T]\n",
    "        x = x.permute(0, 2, 3, 4, 1)\n",
    "        b, C, H, W, T = x.shape\n",
    "        proj_query = self.query_conv(x)\n",
    "        proj_query_H = proj_query.permute(0,3,4,1,2).contiguous().view(b*W*T,-1,H).permute(0,2,1) # [b*W*T,H,C]\n",
    "        proj_query_W = proj_query.permute(0,2,4,1,3).contiguous().view(b*H*T,-1,W).permute(0,2,1) # [b*H*T,W,C]\n",
    "        proj_query_T = proj_query.permute(0,2,3,1,4).contiguous().view(b*W*H,-1,T).permute(0,2,1) # [b*W*H,T,C]\n",
    "        m_H = m.permute(0,3,4,1,2).contiguous().view(b*W*T,-1,H).permute(0,2,1) # [b*W*T,H,C]\n",
    "        m_W = m.permute(0,2,4,1,3).contiguous().view(b*H*T,-1,W).permute(0,2,1) # [b*H*T,W,C]\n",
    "        m_T = m.permute(0,2,3,1,4).contiguous().view(b*W*H,-1,T).permute(0,2,1) # [b*W*H,T,C]\n",
    "\n",
    "        proj_key = self.key_conv(x)\n",
    "        proj_key_H = proj_key.permute(0,3,4,1,2).contiguous().view(b*W*T,-1,H)      # [b*W*T,C,H]\n",
    "        proj_key_W = proj_key.permute(0,2,4,1,3).contiguous().view(b*H*T,-1,W)      # [b*H*T,C,W]\n",
    "        proj_key_T = proj_key.permute(0,2,3,1,4).contiguous().view(b*W*H,-1,T)      # [b*W*H,C,T]\n",
    "\n",
    "        proj_value = self.value_conv(x)\n",
    "        proj_value_H = proj_value.permute(0,3,4,1,2).contiguous().view(b*W*T,-1,H)      # [b*W*T,C,H]\n",
    "        proj_value_W = proj_value.permute(0,2,4,1,3).contiguous().view(b*H*T,-1,W)      # [b*H*T,C,W]\n",
    "        proj_value_T = proj_value.permute(0,2,3,1,4).contiguous().view(b*W*H,-1,T)      # [b*W*H,C,T]\n",
    "\n",
    "        energy_H = torch.bmm(proj_query_H, proj_key_H).view(b,W,T,H,H).permute(0,3,1,2,4) # [b,H,W,T,H]\n",
    "        energy_W = torch.bmm(proj_query_W, proj_key_W).view(b,H,T,W,W).permute(0,1,3,2,4) # [b,H,W,T,W]\n",
    "        energy_T = torch.bmm(proj_query_T, proj_key_T).view(b,H,W,T,T)                    # [b,H,W,T,T]\n",
    "        score = self.softmax(torch.cat([energy_H,energy_W,energy_T],4))         # [b,H,W,T,(H+W+T)]\n",
    "        self.score = score.permute(0,4,3,1,2)  # [b,(H+W+T),T,H,W]\n",
    "        \n",
    "        att_H = score[:,:,:,:,0:H].permute(0,2,3,1,4).contiguous().view(b*W*T,H,H)      # [b*W*T,H,H]\n",
    "        att_W = score[:,:,:,:,H:H+W].permute(0,1,4,2,3).contiguous().view(b*H*T,W,W)    # [b*H*T,W,W]\n",
    "        att_T = score[:,:,:,:,H+W:].contiguous().view(b*H*W,T,T)                        # [b*H*W,T,T]\n",
    "\n",
    "        out_H = torch.bmm(proj_value_H, att_H.permute(0,2,1)).view(b,W,T,-1,H).permute(0,3,4,1,2)\n",
    "        out_W = torch.bmm(proj_value_W, att_W.permute(0,2,1)).view(b,H,T,-1,W).permute(0,3,1,4,2)\n",
    "        out_T = torch.bmm(proj_value_T, att_T.permute(0,2,1)).view(b,H,W,-1,T).permute(0,3,1,2,4)\n",
    "\n",
    "        # objaff_H = torch.bmm(m_H, att_H.permute(0,2,1)).view(b,W,T,-1,H).permute(0,3,4,1,2)\n",
    "        # objaff_W = torch.bmm(m_H, att_W.permute(0,2,1)).view(b,H,T,-1,W).permute(0,3,1,4,2)\n",
    "        # objaff_T = torch.bmm(m_H, att_T.permute(0,2,1)).view(b,H,W,-1,T).permute(0,3,1,2,4)\n",
    "        objaff_H = torch.mul(m_H.unsqueeze(-2), att_H.unsqueeze(-1)).view(b,W,T,-1,H,5).permute(0,3,4,1,2,5)\n",
    "        objaff_W = torch.mul(m_W.unsqueeze(-2), att_W.unsqueeze(-1)).view(b,H,T,-1,W,5).permute(0,3,1,4,2,5)\n",
    "        objaff_T = torch.mul(m_T.unsqueeze(-2), att_T.unsqueeze(-1)).view(b,H,W,-1,T,5).permute(0,3,1,2,4,5)\n",
    "        \n",
    "        # permute back to [batch_size, T, channel, H, W] \n",
    "        output = self.gamma*(out_H + out_T + out_W).permute(0,4,1,2,3)\n",
    "        objaff = torch.cat([objaff_H, objaff_W, objaff_T], 1)\n",
    "        objaff = torch.max(objaff, dim=1).values.permute(0,3,4,1,2)\n",
    "        self.obj_affinity = objaff\n",
    "\n",
    "        return output"
   ]
  },
  {
   "cell_type": "code",
   "execution_count": 16,
   "metadata": {},
   "outputs": [],
   "source": [
    "class DecoderBlock(nn.Module):\n",
    "    \"\"\"Define Decoder block for deconvolution\"\"\"\n",
    "    def __init__(self, in_channels, mid_channels, out_channels, deconv=True):\n",
    "        super(DecoderBlock, self).__init__()\n",
    "        # self.in_channels = in_channels\n",
    "        if deconv:\n",
    "            self.Deblock = nn.Sequential(\n",
    "                nn.Conv2d(in_channels, mid_channels, kernel_size=3, padding=1),\n",
    "                nn.BatchNorm2d(mid_channels),\n",
    "                nn.ReLU(),\n",
    "                nn.ConvTranspose2d(mid_channels, out_channels, kernel_size=4, stride=2, padding=1),\n",
    "                nn.BatchNorm2d(out_channels),\n",
    "                \n",
    "            )\n",
    "        else:\n",
    "            self.Deblock = nn.Sequential(\n",
    "                nn.Upsample(scale_factor=2, mode='bilinar'),\n",
    "                nn.Conv2d(in_channels, mid_channels, kernel_size=3, padding=1),\n",
    "                nn.ReLU(),\n",
    "                nn.Conv2d(in_channels, mid_channels, kernel_size=3, padding=1),\n",
    "            )\n",
    "        self.decoder_feat = torch.ones(1)\n",
    "    \n",
    "    def forward(self, x):\n",
    "        x = x.squeeze(0)\n",
    "        y = self.Deblock(x)\n",
    "        y = y.unsqueeze(0)\n",
    "        self.decoder_feat = y\n",
    "        return y"
   ]
  },
  {
   "cell_type": "code",
   "execution_count": 10,
   "metadata": {},
   "outputs": [],
   "source": [
    "# objaff_H = torch.mul(score_H, m_H).view(b,W,T,-1,H).permute(0,3,4,1,2)\n",
    "# objaff_W = torch.mul(score_W, m_W).view(b,H,T,-1,W).permute(0,3,1,4,2)\n",
    "# objaff_T = torch.mul(score_T, m_T).view(b,H,W,-1,T).permute(0,3,1,2,4)\n",
    "# objaff_H.shape, objaff_W.shape, objaff_T.shape"
   ]
  },
  {
   "cell_type": "code",
   "execution_count": null,
   "metadata": {},
   "outputs": [],
   "source": [
    "# b0.shape = torch.Size([1, 5, 32, 40, 8])"
   ]
  },
  {
   "cell_type": "code",
   "execution_count": 11,
   "metadata": {},
   "outputs": [
    {
     "data": {
      "text/plain": [
       "(torch.Size([200, 32, 8]), torch.Size([160, 40, 8]), torch.Size([1280, 5, 8]))"
      ]
     },
     "execution_count": 11,
     "metadata": {},
     "output_type": "execute_result"
    }
   ],
   "source": [
    "# b0\n",
    "# m = b0.permute(0,2,3,4,1)\n",
    "# b, C, H, W, T = m.shape\n",
    "# m_H = m.permute(0,3,4,1,2).contiguous().view(b*W*T,-1,H).permute(0,2,1) # [b*W*T,H,C]\n",
    "# m_W = m.permute(0,2,4,1,3).contiguous().view(b*H*T,-1,W).permute(0,2,1) # [b*H*T,W,C]\n",
    "# m_T = m.permute(0,2,3,1,4).contiguous().view(b*W*H,-1,T).permute(0,2,1) # [b*W*H,T,C]\n",
    "# m_H.shape, m_W.shape, m_T.shape"
   ]
  },
  {
   "cell_type": "code",
   "execution_count": 10,
   "metadata": {},
   "outputs": [
    {
     "data": {
      "text/plain": [
       "torch.Size([1, 5, 512, 32, 40])"
      ]
     },
     "execution_count": 10,
     "metadata": {},
     "output_type": "execute_result"
    }
   ],
   "source": [
    "CNN = CNNBackbone()\n",
    "SA = SparseAttention()\n",
    "z = CNN(a)\n",
    "attn = SA(z, b0)\n",
    "attn.shape"
   ]
  },
  {
   "cell_type": "code",
   "execution_count": 42,
   "metadata": {},
   "outputs": [],
   "source": [
    "dim = 512\n",
    "fc = nn.Sequential(\n",
    "            nn.Linear(in_features=dim, out_features=dim*2),\n",
    "            nn.ReLU(),\n",
    "            nn.BatchNorm1d(dim*2),\n",
    "            nn.Dropout(0.5),\n",
    "            nn.Linear(in_features=dim*2, out_features=dim)\n",
    "        )"
   ]
  },
  {
   "cell_type": "code",
   "execution_count": 46,
   "metadata": {},
   "outputs": [
    {
     "data": {
      "text/plain": [
       "torch.Size([1, 32, 40, 5, 512])"
      ]
     },
     "execution_count": 46,
     "metadata": {},
     "output_type": "execute_result"
    }
   ],
   "source": [
    "lin = fc(y1)\n",
    "lin.view(1,32,40,5,512).shape"
   ]
  },
  {
   "cell_type": "code",
   "execution_count": null,
   "metadata": {},
   "outputs": [],
   "source": [
    "objaff = torch.cat([objaff_H, objaff_W, objaff_T], 1)\n",
    "objaff = torch.max(objaff, dim=1).values.permute(0,3,4,1,2)\n",
    "objaff.shape"
   ]
  },
  {
   "cell_type": "code",
   "execution_count": null,
   "metadata": {},
   "outputs": [],
   "source": [
    "att_H = score[:,:,:,:,0:H].permute(0,2,3,1,4).contiguous().view(b*W*T,H,H)      # [b*W*T,H,H]\n",
    "att_W = score[:,:,:,:,H:H+W].permute(0,1,4,2,3).contiguous().view(b*H*T,W,W)    # [b*H*T,W,W]\n",
    "att_T = score[:,:,:,:,H+W:].contiguous().view(b*H*W,T,T)                        # [b*H*W,T,T]\n",
    "att_H.shape, att_W.shape, att_T.shape"
   ]
  },
  {
   "cell_type": "code",
   "execution_count": null,
   "metadata": {},
   "outputs": [],
   "source": [
    "temp = torch.mul(m_H.unsqueeze(-2), att_H.unsqueeze(-1)).view(b,W,T,-1,H,8)\n",
    "temp.shape"
   ]
  },
  {
   "cell_type": "code",
   "execution_count": null,
   "metadata": {},
   "outputs": [],
   "source": [
    "objaff_H = torch.mul(m_H.unsqueeze(-2), att_H.unsqueeze(-1)).view(b,W,T,-1,H,8).permute(0,3,4,1,2,5)\n",
    "objaff_H.shape"
   ]
  },
  {
   "cell_type": "code",
   "execution_count": 18,
   "metadata": {},
   "outputs": [],
   "source": [
    "# class SSTEncoder(nn.Module):\n",
    "#     \"\"\"Define the Multi-head attention -> Add&Norm -> Feed Forward -> Add&Norm module\"\"\"\n",
    "#     def __init__(self, dim=512, dropout=0.5):\n",
    "#         super(SSTEncoder, self).__init__()\n",
    "\n",
    "#         # Multi-head attention sub-layer\n",
    "#         self.attn = SparseAttention(dim)\n",
    "#         self.norm_1 = nn.LayerNorm(dim)\n",
    "        \n",
    "#         # Feed forward sub-layer\n",
    "#         self.fc = nn.Sequential(\n",
    "#             nn.Linear(in_features=dim, out_features=dim*2),\n",
    "#             nn.ReLU(),\n",
    "#             nn.BatchNorm1d(dim*2),\n",
    "#             nn.Dropout(dropout),\n",
    "#             nn.Linear(in_features=dim*2, out_features=dim)\n",
    "#         )\n",
    "#         self.norm_2 =  nn.LayerNorm(dim)\n",
    "    \n",
    "#     def forward(self, x, m):\n",
    "#         b, T, C, H, W = x.shape\n",
    "#         y1 = self.attn(x, m)\n",
    "#         resi_conn1 = (y1+x).permute(0,3,4,1,2).contiguous().view(-1,dim)         # permute from [b,T,C,H,W] to [b,H,W,T,C] then flatten\n",
    "#         y2 = self.norm_1(resi_conn1)\n",
    "#         y3 = self.fc(y2)\n",
    "#         resi_conn2 = (y2+y3)\n",
    "#         out = self.norm_2(resi_conn2).contiguous().view(b,H,W,T,-1).permute(0,3,4,1,2)\n",
    "\n",
    "#         return out"
   ]
  },
  {
   "cell_type": "code",
   "execution_count": 17,
   "metadata": {},
   "outputs": [],
   "source": [
    "class SSTEncoder(nn.Module):\n",
    "    \"\"\"Define the Multi-head attention -> Add&Norm -> Feed Forward -> Add&Norm module\"\"\"\n",
    "    def __init__(self, dim=512, dropout=0.2):\n",
    "        super(SSTEncoder, self).__init__()\n",
    "\n",
    "        # Multi-head attention sub-layer\n",
    "        self.attn = SparseAttention(dim)\n",
    "        self.norm_1 = nn.LayerNorm(dim)\n",
    "        self.sst_feat = torch.ones(1)\n",
    "        \n",
    "        # Feed forward sub-layer\n",
    "        self.fc = nn.Sequential(\n",
    "            nn.Linear(in_features=dim, out_features=dim*2),\n",
    "            nn.ReLU(),\n",
    "            nn.Dropout(dropout),\n",
    "            nn.Linear(in_features=dim*2, out_features=dim)\n",
    "        )\n",
    "        self.norm_2 =  nn.LayerNorm(dim)\n",
    "    \n",
    "    def forward(self, x, m):\n",
    "        y1 = self.attn(x, m)\n",
    "        x2 = (x+y1).permute(0,3,4,1,2)   # permute from [b,T,C,H,W] to [b,H,W,T,C]\n",
    "        y2 = self.norm_1(x2)\n",
    "        y3 = self.fc(y2)\n",
    "        out = self.norm_2(y2+y3).permute(0,3,4,1,2)  # permute from [b,H,W,T,C] to [b,T,C,H,W]\n",
    "        self.sst_feat = out\n",
    "\n",
    "        return out"
   ]
  },
  {
   "cell_type": "code",
   "execution_count": 18,
   "metadata": {},
   "outputs": [],
   "source": [
    "class MyTransformer(nn.Module):\n",
    "    def __init__(self, num_layers=4):\n",
    "        super(MyTransformer, self).__init__()\n",
    "\n",
    "        self.backbone = CNNBackbone()\n",
    "        self.pos_encoding = PositionalEncoding3D()\n",
    "        self.self_attn1 = SSTEncoder()\n",
    "        self.self_attn2 = SSTEncoder()\n",
    "        self.self_attn3 = SSTEncoder()\n",
    "        self.self_attn4 = SSTEncoder()\n",
    "        self.self_attn5 = SSTEncoder()\n",
    "        # input dim = CNN_out * 2 + num_layers * N_classes\n",
    "        self.dec1 = DecoderBlock(512*2+5*5,1024,1024)\n",
    "        self.dec2 = DecoderBlock(1024,1024,512)\n",
    "        self.dec3 = DecoderBlock(512,512,5)\n",
    "        # self.dec4 = DecoderBlock(128,64,8)\n",
    "        self.cnn_feat = torch.zeros(1)\n",
    "        self.encod_feat = torch.zeros(1)\n",
    "        self.attn_scores = torch.zeros(1)\n",
    "        self.object_affinity = torch.zeros(1)\n",
    "    \n",
    "\n",
    "    def save_preds(self, z, loc=\"\"):\n",
    "        \"\"\"Save the predicted mask to file.\"\"\"\n",
    "        path = loc.replace(\"images\",\"prediction_temp\").replace(\".jpg\",\".pt\")\n",
    "        z = F.interpolate(z.squeeze(0).float(), size=(32,40), mode='bilinear', align_corners=True)  # Reshape to the size of feature map \n",
    "        z = F.softmax(z, dim=1)                     # Softmax along classes (channel)\n",
    "        z = torch.argmax(z, dim=1)                  # Find the class with highest softmax probability\n",
    "        preds = F.one_hot(z, num_classes=5).permute(0,3,1,2)        # Turn the mask to onehot form again, permute to [T,C,H,W]\n",
    "        preds = preds[-1].to(torch.float32).cpu()\n",
    "        torch.save(preds, path)\n",
    "\n",
    "\n",
    "    def forward(self, x, m, loc=\"\"):\n",
    "        \"\"\"\n",
    "        x - input frames sequence;\n",
    "        loc - path of the last frame\n",
    "        \"\"\"\n",
    "        # 1. subtract feature embedding from CNN backbone [b,T,C,H',W']\n",
    "        cnn_fs = self.backbone(x)\n",
    "        self.cnn_feat = cnn_fs\n",
    "        # Get positional encoding and add it to the feature embedding\n",
    "        pe = self.pos_encoding(cnn_fs)\n",
    "        y = pe + cnn_fs\n",
    "\n",
    "        # 2. Encoded feature from transformer layers \n",
    "        y = self.self_attn1(y, m)\n",
    "        y = self.self_attn2(y, m)\n",
    "        y = self.self_attn3(y, m)\n",
    "        y = self.self_attn4(y, m)\n",
    "        trans_feat = self.self_attn5(y, m)\n",
    "        self.encod_feat = trans_feat\n",
    "        \n",
    "        # # 3. Object Affinity Value [N_layers,Obj,T,H',W']:\n",
    "        affinity1 = self.self_attn1.attn.obj_affinity\n",
    "        affinity2 = self.self_attn2.attn.obj_affinity\n",
    "        affinity3 = self.self_attn3.attn.obj_affinity\n",
    "        affinity4 = self.self_attn4.attn.obj_affinity\n",
    "        affinity5 = self.self_attn5.attn.obj_affinity\n",
    "        object_affinity = torch.stack([affinity1, affinity2, affinity3, affinity4, affinity5], 0).permute(1,0,3,2,4,5)\n",
    "        object_affinity = object_affinity.flatten(1,2).transpose(1,2)\n",
    "        self.object_affinity = object_affinity\n",
    "        # # Adjust to [b,T,C,H',W']\n",
    "\n",
    "        # Concatnate feature together\n",
    "        # emb = torch.cat([cnn_fs, trans_feat],dim=2)\n",
    "        emb = torch.cat([cnn_fs, trans_feat, object_affinity],dim=2)\n",
    "        \n",
    "        z = self.dec1(emb)\n",
    "        z = self.dec2(z)\n",
    "        z = self.dec3(z)\n",
    "        # z = self.dec4(z)\n",
    "        self.save_preds(z, loc)\n",
    "        output = F.interpolate(z[0],scale_factor=4,mode='bilinear',align_corners=True)\n",
    "        return output\n",
    "        \n",
    "        Interpolate (bilinear)"
   ]
  },
  {
   "cell_type": "code",
   "execution_count": 19,
   "metadata": {},
   "outputs": [
    {
     "data": {
      "text/plain": [
       "torch.Size([3, 5, 1024, 1280])"
      ]
     },
     "execution_count": 19,
     "metadata": {},
     "output_type": "execute_result"
    }
   ],
   "source": [
    "model = MyTransformer()\n",
    "model.eval()\n",
    "model = model.to(device)\n",
    "z = model(a.to(device), b0.to(device), c[0])\n",
    "z.shape"
   ]
  },
  {
   "cell_type": "code",
   "execution_count": 26,
   "metadata": {},
   "outputs": [
    {
     "data": {
      "text/plain": [
       "torch.Size([1, 5, 25, 32, 40])"
      ]
     },
     "execution_count": 26,
     "metadata": {},
     "output_type": "execute_result"
    }
   ],
   "source": [
    "model.object_affinity.shape"
   ]
  },
  {
   "cell_type": "code",
   "execution_count": null,
   "metadata": {},
   "outputs": [],
   "source": [
    "affinity1 = model.self_attn1.attn.obj_affinity\n",
    "affinity2 = model.self_attn2.attn.obj_affinity\n",
    "affinity3 = model.self_attn3.attn.obj_affinity\n",
    "affinity4 = model.self_attn4.attn.obj_affinity\n",
    "object_affinity = torch.stack([affinity1, affinity2, affinity3, affinity4], 0).permute(1,0,3,2,4,5)\n",
    "object_affinity = object_affinity.flatten(1,2).transpose(1,2)\n",
    "object_affinity.shape"
   ]
  },
  {
   "cell_type": "code",
   "execution_count": null,
   "metadata": {},
   "outputs": [],
   "source": [
    "z = F.interpolate(z.squeeze(0).float(), size=(32,40), mode='bilinear', align_corners=True)  # Reshape to the size of feature map \n",
    "z = F.softmax(z, dim=1)                     # Softmax along classes (channel)\n",
    "z = torch.argmax(z, dim=1)                  # Find the class with highest softmax probability\n",
    "preds = F.one_hot(z, num_classes=8).permute(0,3,1,2)        # Turn the mask to onehot form again, permute to [T,C,H,W]\n",
    "preds = preds.to(torch.float32).cpu()"
   ]
  },
  {
   "cell_type": "markdown",
   "metadata": {},
   "source": [
    "## Training"
   ]
  },
  {
   "cell_type": "code",
   "execution_count": 27,
   "metadata": {},
   "outputs": [],
   "source": [
    "# def get_jaccard(y_true, y_pred):\n",
    "#     \"\"\"y_true, y_pred should be in the same shape [C,H,W]\"\"\"\n",
    "#     epsilon = 1e-15\n",
    "#     if y_true.shape == y_pred.shape:\n",
    "#         true = y_true[1:].flatten()\n",
    "#         pred = y_pred[1:].flatten()\n",
    "#     else:\n",
    "#         raise ValueError\n",
    "#     intersection = torch.sum(true * pred)\n",
    "#     union = torch.sum(true) + torch.sum(pred)\n",
    "#     jaccard = ((intersection + epsilon) / (union - intersection + epsilon))\n",
    "#     return jaccard.data.cpu().numpy()"
   ]
  },
  {
   "cell_type": "code",
   "execution_count": 22,
   "metadata": {},
   "outputs": [],
   "source": [
    "# def get_jaccard(y_true, y_pred):\n",
    "#     \"\"\"y_true, y_pred should be in the same shape [H,W]\"\"\"\n",
    "#     epsilon = 1e-15\n",
    "#     jaccard_ls = []\n",
    "#     classes = y_true.unique().detach().cpu().tolist()\n",
    "#     y_true = F.one_hot(y_true, num_classes=8).permute(2,0,1)\n",
    "#     y_pred = F.one_hot(y_pred, num_classes=8).permute(2,0,1)\n",
    "#     for c in classes:\n",
    "#         if c != 0:\n",
    "#             true = y_true[c].flatten()\n",
    "#             pred = y_pred[c].flatten()\n",
    "#             intersection = torch.sum(true * pred)\n",
    "#             union = torch.sum(true) + torch.sum(pred)\n",
    "#             jaccard = ((intersection + epsilon) / (union - intersection + epsilon))\n",
    "#             jaccard_ls.append(jaccard.data.cpu().numpy())\n",
    "#     return np.mean(jaccard_ls)"
   ]
  },
  {
   "cell_type": "code",
   "execution_count": 23,
   "metadata": {},
   "outputs": [],
   "source": [
    "# def get_Dice(y_true, y_pred):\n",
    "#     \"\"\"y_true, y_pred should be in the same shape [H,W]\"\"\"\n",
    "#     epsilon = 1e-15\n",
    "#     dice_ls = []\n",
    "#     classes = y_true.unique().detach().cpu().tolist()\n",
    "#     y_true = F.one_hot(y_true, num_classes=8).permute(2,0,1)\n",
    "#     y_pred = F.one_hot(y_pred, num_classes=8).permute(2,0,1)\n",
    "#     for c in classes:\n",
    "#         if c != 0:\n",
    "#             true = y_true[c].flatten()\n",
    "#             pred = y_pred[c].flatten()\n",
    "#             intersection = torch.sum(true * pred)\n",
    "#             union = torch.sum(true) + torch.sum(pred)\n",
    "#             dice = 2 * (intersection + epsilon) / (union + epsilon)\n",
    "#             dice_ls.append(dice.data.cpu().numpy())\n",
    "#     return np.mean(dice_ls)"
   ]
  },
  {
   "cell_type": "code",
   "execution_count": 20,
   "metadata": {},
   "outputs": [],
   "source": [
    "def jaccard(y_true, y_pred):\n",
    "    intersection = (y_true * y_pred).sum()\n",
    "    union = y_true.sum() + y_pred.sum() - intersection\n",
    "    res = (intersection + 1e-15) / (union + 1e-15)\n",
    "    return res.detach().cpu().numpy()\n",
    "\n",
    "\n",
    "def dice(y_true, y_pred):\n",
    "    res = (2 * (y_true * y_pred).sum() + 1e-15) / (y_true.sum() + y_pred.sum() + 1e-15)\n",
    "    return res.detach().cpu().numpy()\n",
    "\n",
    "def get_Dice(y_true, y_pred):\n",
    "    result = []\n",
    "\n",
    "    if y_true.sum() == 0:\n",
    "        if y_pred.sum() == 0:\n",
    "            return 1\n",
    "        else:\n",
    "            return 0\n",
    "            \n",
    "    classes = y_true.unique().detach().cpu().tolist()\n",
    "    for instrument_id in classes:\n",
    "        if instrument_id == 0:\n",
    "            continue\n",
    "        result.append(dice(y_true == instrument_id, y_pred == instrument_id))\n",
    "\n",
    "    return np.mean(result)\n",
    "\n",
    "def get_jaccard(y_true, y_pred):\n",
    "    result = []\n",
    "\n",
    "    if y_true.sum() == 0:\n",
    "        if y_pred.sum() == 0:\n",
    "            return 1\n",
    "        else:\n",
    "            return 0\n",
    "\n",
    "    classes = y_true.unique().detach().cpu().tolist()\n",
    "    for instrument_id in classes:\n",
    "        if instrument_id == 0:\n",
    "            continue\n",
    "        result.append(jaccard(y_true == instrument_id, y_pred == instrument_id))\n",
    "\n",
    "    return np.mean(result)"
   ]
  },
  {
   "cell_type": "code",
   "execution_count": 17,
   "metadata": {},
   "outputs": [],
   "source": [
    "class LossMulti:\n",
    "    def __init__(self, jaccard_weight=0.1, num_classes=5):\n",
    "        self.nll_loss = nn.CrossEntropyLoss()\n",
    "        self.jaccard_weight = jaccard_weight\n",
    "        self.num_classes = num_classes\n",
    "\n",
    "    def __call__(self, outputs, targets):\n",
    "        loss = (1 - self.jaccard_weight) * self.nll_loss(outputs, targets)\n",
    "\n",
    "        if self.jaccard_weight:\n",
    "            eps = 1e-15\n",
    "            for cls in range(self.num_classes):\n",
    "                jaccard_target = (targets == cls).float()\n",
    "                jaccard_output = outputs[:, cls].exp()\n",
    "                intersection = (jaccard_output * jaccard_target).sum()\n",
    "\n",
    "                union = jaccard_output.sum() + jaccard_target.sum()\n",
    "                loss -= torch.log((intersection + eps) / (union - intersection + eps)) * self.jaccard_weight\n",
    "        return loss\n",
    "\n",
    "criterion = LossMulti()"
   ]
  },
  {
   "cell_type": "code",
   "execution_count": 31,
   "metadata": {},
   "outputs": [
    {
     "data": {
      "text/plain": [
       "tensor(6.9047, device='cuda:0', grad_fn=<SubBackward0>)"
      ]
     },
     "execution_count": 31,
     "metadata": {},
     "output_type": "execute_result"
    }
   ],
   "source": [
    "data, mask, temp, path = next(iter(training_data_loader))\n",
    "data, mask, temp, path = data.to(device), mask.long().to(device), temp.to(device), path[0]\n",
    "output = model(data, temp, path)                            # Forward Passing\n",
    "preds = F.softmax(output, dim=1)               # Make prediction\n",
    "target = mask.squeeze(0)\n",
    "preds.shape, target.shape\n",
    "loss = criterion(preds, target)                  # Compute loss\n",
    "loss.backward()                                 # Compute gradients\n",
    "# # optimizer.step()                                # Update the model parameters\n",
    "# # optimizer.zero_grad()                           # Clear the gradients\n",
    "# \n",
    "# preds = torch.argmax(preds, dim=1)\n",
    "# preds.unique(), target.unique()\n",
    "# # preds = F.one_hot(preds, num_classes=8).permute(0,3,1,2)[-1]\n",
    "# # targets = F.one_hot(target, num_classes=8).permute(0,3,1,2)[-1]\n",
    "# # # train_loss += loss.item() * data.size(0)        # Compute training loss\n",
    "# # # Jaccard = 0.0\n",
    "# Jaccard = get_jaccard(target[-1], preds[-1])\n",
    "# d_ci = get_Dice(target[-1], preds[-1])\n",
    "loss"
   ]
  },
  {
   "cell_type": "code",
   "execution_count": 21,
   "metadata": {},
   "outputs": [],
   "source": [
    "def train(model, train_dataloader, valid_dataloader, criterion, optimizer, epochs):\n",
    "    \n",
    "    LOSS_train = []\n",
    "    LOSS_valid = []\n",
    "    Jaccard_train = []\n",
    "    Jaccard_valid = []  \n",
    "    Dice_train = []\n",
    "    Dice_valid = []\n",
    "\n",
    "    for epoch in tqdm.trange(epochs, desc=\"Epochs\"):\n",
    "        result = []\n",
    "        train_loss = 0.0\n",
    "        train_Jaccard = 0.0\n",
    "        train_dice = 0.0\n",
    "        valid_loss = 0.0\n",
    "        valid_Jaccard = 0.0\n",
    "        valid_dice = 0.0\n",
    "\n",
    "        # Begin training\n",
    "        model.train()\n",
    "        for data, mask, temp, path in train_dataloader:\n",
    "            data, mask, temp, path = data.to(device), mask.long().to(device), temp.to(device), path[0]\n",
    "            output = model(data, temp, path)                            # Forward Passing\n",
    "            target = mask.squeeze(0)\n",
    "            loss = criterion(output, target)                  # Compute loss\n",
    "            loss.backward()                                 # Compute gradients\n",
    "            optimizer.step()                                # Update the model parameters\n",
    "            optimizer.zero_grad()                           # Clear the gradients\n",
    "            preds = F.softmax(output, dim=1)               # Make prediction\n",
    "            preds = torch.argmax(preds, dim=1)\n",
    "            train_loss += loss.item() * data.size(0)        # Compute training loss\n",
    "            train_Jaccard += get_jaccard(target[-1], preds[-1])\n",
    "            train_dice += get_Dice(target[-1], preds[-1])\n",
    "\n",
    "        # Begin validation\n",
    "        model.eval()\n",
    "        for data, mask, temp, path in valid_dataloader:\n",
    "            data, mask, temp, path = data.to(device), mask.long().to(device), temp.to(device), path[0]\n",
    "            output = model(data, temp, path)                             # Forward Passing\n",
    "            target = mask.squeeze(0)\n",
    "            loss = criterion(output, target)                        # Compute loss\n",
    "            preds = F.softmax(output, dim=1)               # Make prediction\n",
    "            preds = torch.argmax(preds, dim=1)\n",
    "            valid_loss += loss.item() * data.size(0)        # Compute validation loss\n",
    "            valid_Jaccard += get_jaccard(target[-1], preds[-1])\n",
    "            valid_dice += get_Dice(target[-1], preds[-1])\n",
    "        \n",
    "        # Compute epoch loss and f1\n",
    "        epoch_train_loss = train_loss / len(train_dataloader.dataset)\n",
    "        epoch_train_Jaccard = train_Jaccard / len(train_dataloader.dataset)\n",
    "        epoch_train_dice = train_dice / len(train_dataloader.dataset)\n",
    "        epoch_valid_loss = valid_loss / len(valid_dataloader.dataset)\n",
    "        epoch_valid_Jaccard = valid_Jaccard / len(valid_dataloader.dataset)\n",
    "        epoch_valid_dice = valid_dice / len(valid_dataloader.dataset)\n",
    "\n",
    "        # Record epoch loss and f1 to the list\n",
    "        LOSS_train.append(epoch_train_loss)\n",
    "        LOSS_valid.append(epoch_valid_loss)\n",
    "        Jaccard_train.append(epoch_train_Jaccard)\n",
    "        Jaccard_valid.append(epoch_valid_Jaccard)   \n",
    "        Dice_train.append(epoch_train_dice)\n",
    "        Dice_valid.append(epoch_valid_dice)\n",
    "\n",
    "        result.append(f'{epoch} TRAIN loss: {epoch_train_loss:.4f}, Jaccard: {epoch_train_Jaccard:.4f}, Dice: {epoch_train_dice:.4f};  VALID loss: {epoch_valid_loss:.4f}, Jaccard: {epoch_valid_Jaccard:.4f}, Dice: {epoch_valid_dice:.4f}')\n",
    "\n",
    "        print(result)\n",
    "    return LOSS_train, LOSS_valid, Jaccard_train, Jaccard_valid, Dice_train, Dice_valid"
   ]
  },
  {
   "cell_type": "code",
   "execution_count": 22,
   "metadata": {},
   "outputs": [
    {
     "name": "stderr",
     "output_type": "stream",
     "text": [
      "Epochs:  33%|███▎      | 1/3 [09:02<18:05, 542.99s/it]"
     ]
    },
    {
     "name": "stdout",
     "output_type": "stream",
     "text": [
      "['0 TRAIN loss: 0.1232, Jaccard: 0.6812, Dice: 0.7689;  VALID loss: 0.3869, Jaccard: 0.3944, Dice: 0.5233']\n"
     ]
    },
    {
     "name": "stderr",
     "output_type": "stream",
     "text": [
      "Epochs:  67%|██████▋   | 2/3 [17:31<08:42, 522.47s/it]"
     ]
    },
    {
     "name": "stdout",
     "output_type": "stream",
     "text": [
      "['1 TRAIN loss: 0.0534, Jaccard: 0.8097, Dice: 0.8798;  VALID loss: 0.4176, Jaccard: 0.4160, Dice: 0.5477']\n"
     ]
    },
    {
     "name": "stderr",
     "output_type": "stream",
     "text": [
      "Epochs: 100%|██████████| 3/3 [26:38<00:00, 532.71s/it]"
     ]
    },
    {
     "name": "stdout",
     "output_type": "stream",
     "text": [
      "['2 TRAIN loss: 0.0401, Jaccard: 0.8432, Dice: 0.9034;  VALID loss: 0.4204, Jaccard: 0.3969, Dice: 0.5263']\n"
     ]
    },
    {
     "name": "stderr",
     "output_type": "stream",
     "text": [
      "\n"
     ]
    }
   ],
   "source": [
    "# criterion = LossBinary(0.5)\n",
    "model = MyTransformer()\n",
    "model = model.to(device)\n",
    "# criterion = LossMulti(jaccard_weight=0.3, num_classes=5)\n",
    "criterion = nn.CrossEntropyLoss()\n",
    "optimizer = optim.Adagrad(model.parameters(), lr=0.1)\n",
    "LOSS_train, LOSS_valid, Jaccard_train, Jaccard_valid, Dice_train, Dice_valid = train(model, training_data_loader, valid_data_loader, criterion, optimizer, epochs=3)"
   ]
  },
  {
   "cell_type": "code",
   "execution_count": 1,
   "metadata": {},
   "outputs": [
    {
     "ename": "NameError",
     "evalue": "name 'training_data_frames' is not defined",
     "output_type": "error",
     "traceback": [
      "\u001b[1;31m---------------------------------------------------------------------------\u001b[0m",
      "\u001b[1;31mNameError\u001b[0m                                 Traceback (most recent call last)",
      "\u001b[1;32m<ipython-input-1-a670d118c9df>\u001b[0m in \u001b[0;36m<module>\u001b[1;34m\u001b[0m\n\u001b[1;32m----> 1\u001b[1;33m \u001b[0mframe\u001b[0m\u001b[1;33m,\u001b[0m\u001b[0mmask\u001b[0m\u001b[1;33m,\u001b[0m\u001b[0mpred\u001b[0m\u001b[1;33m,\u001b[0m\u001b[0mc\u001b[0m \u001b[1;33m=\u001b[0m \u001b[0mtraining_data_frames\u001b[0m\u001b[1;33m[\u001b[0m\u001b[1;36m300\u001b[0m\u001b[1;33m]\u001b[0m\u001b[1;33m\u001b[0m\u001b[1;33m\u001b[0m\u001b[0m\n\u001b[0m\u001b[0;32m      2\u001b[0m \u001b[1;31m# img = a[0][0].permute(1,2,0)\u001b[0m\u001b[1;33m\u001b[0m\u001b[1;33m\u001b[0m\u001b[1;33m\u001b[0m\u001b[0m\n\u001b[0;32m      3\u001b[0m \u001b[1;31m# plt.imshow(img)\u001b[0m\u001b[1;33m\u001b[0m\u001b[1;33m\u001b[0m\u001b[1;33m\u001b[0m\u001b[0m\n\u001b[0;32m      4\u001b[0m \u001b[0mframe\u001b[0m \u001b[1;33m=\u001b[0m \u001b[0mframe\u001b[0m\u001b[1;33m.\u001b[0m\u001b[0munsqueeze\u001b[0m\u001b[1;33m(\u001b[0m\u001b[1;36m0\u001b[0m\u001b[1;33m)\u001b[0m\u001b[1;33m\u001b[0m\u001b[1;33m\u001b[0m\u001b[0m\n\u001b[0;32m      5\u001b[0m \u001b[0mmask\u001b[0m \u001b[1;33m=\u001b[0m \u001b[0mmask\u001b[0m\u001b[1;33m.\u001b[0m\u001b[0munsqueeze\u001b[0m\u001b[1;33m(\u001b[0m\u001b[1;36m0\u001b[0m\u001b[1;33m)\u001b[0m\u001b[1;33m\u001b[0m\u001b[1;33m\u001b[0m\u001b[0m\n",
      "\u001b[1;31mNameError\u001b[0m: name 'training_data_frames' is not defined"
     ]
    }
   ],
   "source": [
    "frame,mask,pred,c = training_data_frames[300]\n",
    "# img = a[0][0].permute(1,2,0)\n",
    "# plt.imshow(img)\n",
    "frame = frame.unsqueeze(0)\n",
    "mask = mask.unsqueeze(0)\n",
    "pred = pred.unsqueeze(0) \n",
    "print(f\"Data shape: {frame.shape}\")\n",
    "print(f\"Mask shape: {mask.shape}\")\n",
    "print(f\"Path: {c}\")"
   ]
  },
  {
   "cell_type": "code",
   "execution_count": 2,
   "metadata": {},
   "outputs": [],
   "source": [
    "def get_mask(img, tmp, c):\n",
    "    # with torch.no_grad():\n",
    "    model.eval()\n",
    "    img, tmp = img.to(device), tmp.to(device)\n",
    "    output = model(img, tmp, c[0])     \n",
    "    preds = F.softmax(output, dim=1)               # Make prediction\n",
    "    preds = torch.argmax(preds, dim=1)\n",
    "    # preds = F.one_hot(preds, num_classes=8).permute(0,3,1,2)[-1]\n",
    "    return preds.detach().cpu()"
   ]
  },
  {
   "cell_type": "code",
   "execution_count": 129,
   "metadata": {},
   "outputs": [],
   "source": [
    "prd = get_mask(frame, pred, c)"
   ]
  },
  {
   "cell_type": "code",
   "execution_count": 100,
   "metadata": {},
   "outputs": [
    {
     "data": {
      "text/plain": [
       "<matplotlib.image.AxesImage at 0x1eaea807940>"
      ]
     },
     "execution_count": 100,
     "metadata": {},
     "output_type": "execute_result"
    },
    {
     "data": {
      "image/png": "[encoded data removed]",
      "text/plain": [
       "<Figure size 432x288 with 1 Axes>"
      ]
     },
     "metadata": {
      "needs_background": "light"
     },
     "output_type": "display_data"
    }
   ],
   "source": [
    "plt.imshow(frame[0][-1].permute(1,2,0))"
   ]
  },
  {
   "cell_type": "code",
   "execution_count": 122,
   "metadata": {},
   "outputs": [
    {
     "data": {
      "text/plain": [
       "<matplotlib.image.AxesImage at 0x1eb26580dc0>"
      ]
     },
     "execution_count": 122,
     "metadata": {},
     "output_type": "execute_result"
    },
    {
     "data": {
      "image/png": "[encoded data removed]",
      "text/plain": [
       "<Figure size 432x288 with 1 Axes>"
      ]
     },
     "metadata": {
      "needs_background": "light"
     },
     "output_type": "display_data"
    }
   ],
   "source": [
    "plt.imshow(mask[0][-1])"
   ]
  },
  {
   "cell_type": "code",
   "execution_count": 131,
   "metadata": {},
   "outputs": [
    {
     "data": {
      "text/plain": [
       "<matplotlib.image.AxesImage at 0x1eb2ef36fd0>"
      ]
     },
     "execution_count": 131,
     "metadata": {},
     "output_type": "execute_result"
    },
    {
     "data": {
      "image/png": "[encoded data removed]",
      "text/plain": [
       "<Figure size 432x288 with 1 Axes>"
      ]
     },
     "metadata": {
      "needs_background": "light"
     },
     "output_type": "display_data"
    }
   ],
   "source": [
    "plt.imshow(prd[-1])"
   ]
  },
  {
   "cell_type": "code",
   "execution_count": 140,
   "metadata": {},
   "outputs": [
    {
     "data": {
      "text/plain": [
       "<matplotlib.image.AxesImage at 0x1ec82503700>"
      ]
     },
     "execution_count": 140,
     "metadata": {},
     "output_type": "execute_result"
    },
    {
     "data": {
      "image/png": "[encoded data removed]",
      "text/plain": [
       "<Figure size 432x288 with 1 Axes>"
      ]
     },
     "metadata": {
      "needs_background": "light"
     },
     "output_type": "display_data"
    }
   ],
   "source": [
    "feat = torch.cat([model.cnn_feat, model.encod_feat, model.object_affinity],dim=2).detach().cpu()\n",
    "feat = torch.sum(feat,dim=2)\n",
    "feat.shape\n",
    "plt.imshow(feat[0][-1])"
   ]
  },
  {
   "cell_type": "code",
   "execution_count": 143,
   "metadata": {},
   "outputs": [],
   "source": [
    "torch.save(model,\"models/visualize_parts_1027.pt\")"
   ]
  },
  {
   "cell_type": "code",
   "execution_count": null,
   "metadata": {},
   "outputs": [],
   "source": []
  }
 ],
 "metadata": {
  "interpreter": {
   "hash": "23d8489b17aa989cee42bd3f3e82cc035b4cfa42fa1ea343caf5051171f57614"
  },
  "kernelspec": {
   "display_name": "Python 3.8.8 64-bit ('datasci': conda)",
   "name": "python3"
  },
  "language_info": {
   "codemirror_mode": {
    "name": "ipython",
    "version": 3
   },
   "file_extension": ".py",
   "mimetype": "text/x-python",
   "name": "python",
   "nbconvert_exporter": "python",
   "pygments_lexer": "ipython3",
   "version": "3.8.8"
  },
  "orig_nbformat": 4
 },
 "nbformat": 4,
 "nbformat_minor": 2
}
