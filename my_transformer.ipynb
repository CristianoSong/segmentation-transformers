{
 "cells": [
  {
   "cell_type": "markdown",
   "source": [
    "# Toy Transformer \r\n",
    "This file has been created to understand the attention/transformer structure and basic method to build transformer in PyTorch.  \""
   ],
   "metadata": {}
  },
  {
   "cell_type": "markdown",
   "source": [
    "## 0. Preparation - package import"
   ],
   "metadata": {}
  },
  {
   "cell_type": "code",
   "execution_count": 1,
   "source": [
    "import os\r\n",
    "import json\r\n",
    "import torch\r\n",
    "import random\r\n",
    "import cv2\r\n",
    "import numpy as np\r\n",
    "import torchvision\r\n",
    "from pathlib import Path\r\n",
    "from torch import nn\r\n",
    "import torch.utils.data as Data\r\n",
    "from torch.utils.data import Dataset\r\n",
    "from torch.nn.utils.rnn import pad_sequence\r\n",
    "from torch.nn import functional as F\r\n",
    "from torchvision import models, transforms\r\n",
    "import matplotlib.pyplot as plt \r\n",
    "import matplotlib\r\n",
    "\r\n",
    "%matplotlib inline\r\n",
    "\r\n",
    "device = torch.device(\"cuda\" if torch.cuda.is_available() else \"cpu\")"
   ],
   "outputs": [],
   "metadata": {}
  },
  {
   "cell_type": "markdown",
   "source": [
    "## 1. Dataset and Dataloader\r\n",
    "### Train / valid split based on the **folds** argument"
   ],
   "metadata": {}
  },
  {
   "cell_type": "code",
   "execution_count": 2,
   "source": [
    "data_path = Path(\"C:/Users/Siyao/Downloads/EndoVis2017Data\")\r\n",
    "train_path = data_path / \"cropped_train\"\r\n",
    "\r\n",
    "def get_split(fold):\r\n",
    "    \"\"\"Split train and valid dataset based on the No. of folder\"\"\"\r\n",
    "    folds = {0: [1, 3],\r\n",
    "             1: [2, 5],\r\n",
    "             2: [4, 8],\r\n",
    "             3: [6, 7]}\r\n",
    "    train_path = data_path / 'cropped_train'\r\n",
    "\r\n",
    "    train_file_names = []\r\n",
    "    val_file_names = []\r\n",
    "\r\n",
    "    for instrument_id in range(1, 9):\r\n",
    "        if instrument_id in folds[fold]:\r\n",
    "            val_file_names += list((train_path / ('instrument_dataset_' + str(instrument_id)) / 'images').glob('*'))\r\n",
    "        else:\r\n",
    "            train_file_names += list((train_path / ('instrument_dataset_' + str(instrument_id)) / 'images').glob('*'))\r\n",
    "\r\n",
    "    return train_file_names, val_file_names\r\n",
    "\r\n",
    "train_file_names, val_file_names = get_split(0)"
   ],
   "outputs": [],
   "metadata": {}
  },
  {
   "cell_type": "markdown",
   "source": [
    "### Function to load image or mask"
   ],
   "metadata": {}
  },
  {
   "cell_type": "code",
   "execution_count": 3,
   "source": [
    "def load_image(path):\r\n",
    "    img = cv2.imread(str(path))\r\n",
    "    return cv2.cvtColor(img, cv2.COLOR_BGR2RGB)\r\n",
    "\r\n",
    "binary_factor = 255\r\n",
    "parts_factor = 85\r\n",
    "instrument_factor = 32\r\n",
    "\r\n",
    "def load_mask(path, problem_type=\"instruments\", mask_folder=\"instruments_masks\",factor=instrument_factor):\r\n",
    "    if problem_type == 'binary':\r\n",
    "        mask_folder = 'binary_masks'\r\n",
    "        factor = binary_factor\r\n",
    "    elif problem_type == 'parts':\r\n",
    "        mask_folder = 'parts_masks'\r\n",
    "        factor = parts_factor\r\n",
    "    elif problem_type == 'instruments':\r\n",
    "        factor = instrument_factor\r\n",
    "        mask_folder = 'instruments_masks'\r\n",
    "\r\n",
    "    mask = cv2.imread(str(path).replace('images', mask_folder).replace('jpg', 'png'), 0)\r\n",
    "\r\n",
    "    return (mask / factor).astype(np.uint8)"
   ],
   "outputs": [],
   "metadata": {}
  },
  {
   "cell_type": "markdown",
   "source": [
    "### Dataset for training and validation"
   ],
   "metadata": {}
  },
  {
   "cell_type": "code",
   "execution_count": 4,
   "source": [
    "class RoboticsDataset(Dataset):\r\n",
    "    \"\"\"Dataset that only loads single frame\"\"\"\r\n",
    "\r\n",
    "    def __init__(self, file_names, to_augment=False, transform=None, mode='train', problem_type=None):\r\n",
    "        self.file_names = file_names\r\n",
    "        self.to_augment = to_augment\r\n",
    "        self.transform = transform\r\n",
    "        self.mode = mode\r\n",
    "        self.problem_type = problem_type\r\n",
    "\r\n",
    "    def __len__(self):\r\n",
    "        return len(self.file_names)\r\n",
    "\r\n",
    "    def __getitem__(self, idx):\r\n",
    "        img_file_name = self.file_names[idx]\r\n",
    "        image = load_image(img_file_name)\r\n",
    "        mask = load_mask(img_file_name, self.problem_type)\r\n",
    "\r\n",
    "        # data = {\"image\": image, \"mask\": mask}\r\n",
    "        # augmented = self.transform(**data)\r\n",
    "        # image, mask = augmented[\"image\"], augmented[\"mask\"]\r\n",
    "\r\n",
    "        # if self.mode == 'train':\r\n",
    "        if self.problem_type == 'binary':\r\n",
    "            return torch.from_numpy(image), torch.from_numpy(np.expand_dims(mask, 0)).float(), str(img_file_name)\r\n",
    "        else:\r\n",
    "            return torch.from_numpy(image), torch.from_numpy(mask).long(), str(img_file_name)\r\n",
    "        # else:\r\n",
    "        #     return torch.from_numpy(image), str(img_file_name)\r\n",
    "\r\n",
    "train_data_single = RoboticsDataset(train_file_names, problem_type=\"instrument\")\r\n",
    "valid_data_single = RoboticsDataset(val_file_names, mode='valid')"
   ],
   "outputs": [],
   "metadata": {}
  },
  {
   "cell_type": "markdown",
   "source": [
    "### Instrument Dataset\r\n",
    "1. Mutiple image stacked as data\r\n",
    "2. The label used instrument type"
   ],
   "metadata": {}
  },
  {
   "cell_type": "code",
   "execution_count": 5,
   "source": [
    "### Creating the lists of file name, that starts from tau frames after the first frame\r\n",
    "### which avoid the first few frames having no previous frames issue.\r\n",
    "\r\n",
    "tau = 3\r\n",
    "train_img_path = [str(i) for i in train_file_names]\r\n",
    "train_frame_name = [i for i in train_img_path if int(i[-7:-4])>=tau]\r\n",
    "valid_img_path = [str(i) for i in val_file_names] \r\n",
    "valid_frame_name = [i for i in valid_img_path if int(i[-7:-4])>=tau]"
   ],
   "outputs": [],
   "metadata": {}
  },
  {
   "cell_type": "code",
   "execution_count": 6,
   "source": [
    "## RESIZE IMAGE TO 1/16 RESOLUTION\r\n",
    "class InstrumentDataset(Dataset):\r\n",
    "    \"\"\"Dataset that loads multiple frame\"\"\"\r\n",
    "\r\n",
    "    def __init__(self, file_names, problem_type=\"Instrument\", tau=3):\r\n",
    "        self.file_names = file_names\r\n",
    "        self.problem_type = problem_type\r\n",
    "        self.tau = tau      # tau is the number of frames should be combiend\r\n",
    "        self.transform = transforms.Compose([\r\n",
    "                                transforms.ToPILImage(),\r\n",
    "                                transforms.Resize([256,320]),\r\n",
    "                                transforms.ToTensor()\r\n",
    "                            ]) \r\n",
    "    def __len__(self):\r\n",
    "        return len(self.file_names)\r\n",
    "\r\n",
    "    def __getitem__(self, idx):\r\n",
    "        current_frame = self.file_names[idx]\r\n",
    "        mask = load_mask(current_frame, self.problem_type)\r\n",
    "        mask = self.transform(mask)\r\n",
    "        frames_ls = []\r\n",
    "        for i in range(tau):\r\n",
    "            to_find = \"frame\"+current_frame[-7:-4]\r\n",
    "            to_repl = \"frame\"+ '%03d' % (int(current_frame[-7:-4])-i)\r\n",
    "            frame = current_frame.replace(to_find, to_repl)\r\n",
    "            frame_array = load_image(frame)\r\n",
    "            frame_tensor = self.transform(frame_array)\r\n",
    "            # frame_tensor = torch.from_numpy(frame_tensor)            \r\n",
    "            frames_ls.append(frame_tensor)\r\n",
    "        frames_stack = torch.stack(frames_ls, 0)\r\n",
    "        # permute the tensor from [tau, H, W, C] to [tau, C, H, W]\r\n",
    "        # frames_tensor = frames_stack.permute(0,3,1,2) \r\n",
    "        return frames_stack.float(), mask.float(), str(current_frame)"
   ],
   "outputs": [],
   "metadata": {}
  },
  {
   "cell_type": "code",
   "execution_count": 7,
   "source": [
    "### Traning and validation data with multi-frames input\r\n",
    "# The data in 4D tensor (tau, H, W, C), label in 3D tensor ()\r\n",
    "training_data_frames = InstrumentDataset(train_frame_name)\r\n",
    "valid_data_frames = InstrumentDataset(valid_frame_name)"
   ],
   "outputs": [],
   "metadata": {}
  },
  {
   "cell_type": "markdown",
   "source": [
    "### Dataloader"
   ],
   "metadata": {}
  },
  {
   "cell_type": "code",
   "execution_count": 8,
   "source": [
    "batch_size = 1\r\n",
    "training_data_loader = Data.DataLoader(training_data_frames, batch_size=batch_size, shuffle=True)\r\n",
    "valid_data_loader = Data.DataLoader(valid_data_frames, batch_size=batch_size, shuffle=False)"
   ],
   "outputs": [],
   "metadata": {}
  },
  {
   "cell_type": "code",
   "execution_count": 9,
   "source": [
    "a,b,c = next(iter(training_data_loader))\r\n",
    "print(f\"Data shape: {a.shape}\")\r\n",
    "print(f\"Mask shape: {b.shape}\")\r\n",
    "print(f\"Path: {c}\")"
   ],
   "outputs": [
    {
     "output_type": "stream",
     "name": "stdout",
     "text": [
      "Data shape: torch.Size([1, 3, 3, 256, 320])\n",
      "Mask shape: torch.Size([1, 1, 256, 320])\n",
      "Path: ('C:\\\\Users\\\\Siyao\\\\Downloads\\\\EndoVis2017Data\\\\cropped_train\\\\instrument_dataset_6\\\\images\\\\frame099.jpg',)\n"
     ]
    }
   ],
   "metadata": {}
  },
  {
   "cell_type": "code",
   "execution_count": 15,
   "source": [
    "img = a[0][0].permute(1,2,0)\r\n",
    "plt.imshow(img)"
   ],
   "outputs": [
    {
     "output_type": "execute_result",
     "data": {
      "text/plain": [
       "<matplotlib.image.AxesImage at 0x2990da9d9a0>"
      ]
     },
     "metadata": {},
     "execution_count": 15
    },
    {
     "output_type": "display_data",
     "data": {
      "image/png": "[encoded data removed]",
      "text/plain": [
       "<Figure size 432x288 with 1 Axes>"
      ]
     },
     "metadata": {
      "needs_background": "light"
     }
    }
   ],
   "metadata": {}
  },
  {
   "cell_type": "markdown",
   "source": [
    "## Model\r\n",
    "### CNN Backbone"
   ],
   "metadata": {}
  },
  {
   "cell_type": "code",
   "execution_count": 33,
   "source": [
    "# model = models.segmentation.fcn_resnet101(pretrained=True).eval()\r\n",
    "model = models.resnet101(pretrained=True)\r\n",
    "model = torch.nn.Sequential(*(list(model.children())[:-3])).eval()\r\n",
    "# https://stackoverflow.com/questions/61315541/resnet-101-featuremap-shape\r\n",
    "model.to(device)\r\n",
    "# model.layer4 = nn.Identity\r\n",
    "# model.avgpool = nn.Identity()\r\n",
    "# model.fc = nn.Identity()\r\n",
    "y = model(a[0].to(device))\r\n",
    "y.shape"
   ],
   "outputs": [
    {
     "output_type": "execute_result",
     "data": {
      "text/plain": [
       "torch.Size([3, 1024, 16, 20])"
      ]
     },
     "metadata": {},
     "execution_count": 33
    }
   ],
   "metadata": {}
  },
  {
   "cell_type": "code",
   "execution_count": 34,
   "source": [
    "from torchinfo import summary\r\n",
    "summary(model, input_size=(3,3,224, 320))"
   ],
   "outputs": [
    {
     "output_type": "execute_result",
     "data": {
      "text/plain": [
       "==========================================================================================\n",
       "Layer (type:depth-idx)                   Output Shape              Param #\n",
       "==========================================================================================\n",
       "Sequential                               --                        --\n",
       "├─Conv2d: 1-1                            [3, 64, 112, 160]         9,408\n",
       "├─BatchNorm2d: 1-2                       [3, 64, 112, 160]         128\n",
       "├─ReLU: 1-3                              [3, 64, 112, 160]         --\n",
       "├─MaxPool2d: 1-4                         [3, 64, 56, 80]           --\n",
       "├─Sequential: 1-5                        [3, 256, 56, 80]          --\n",
       "│    └─Bottleneck: 2-1                   [3, 256, 56, 80]          --\n",
       "│    │    └─Conv2d: 3-1                  [3, 64, 56, 80]           4,096\n",
       "│    │    └─BatchNorm2d: 3-2             [3, 64, 56, 80]           128\n",
       "│    │    └─ReLU: 3-3                    [3, 64, 56, 80]           --\n",
       "│    │    └─Conv2d: 3-4                  [3, 64, 56, 80]           36,864\n",
       "│    │    └─BatchNorm2d: 3-5             [3, 64, 56, 80]           128\n",
       "│    │    └─ReLU: 3-6                    [3, 64, 56, 80]           --\n",
       "│    │    └─Conv2d: 3-7                  [3, 256, 56, 80]          16,384\n",
       "│    │    └─BatchNorm2d: 3-8             [3, 256, 56, 80]          512\n",
       "│    │    └─Sequential: 3-9              [3, 256, 56, 80]          16,896\n",
       "│    │    └─ReLU: 3-10                   [3, 256, 56, 80]          --\n",
       "│    └─Bottleneck: 2-2                   [3, 256, 56, 80]          --\n",
       "│    │    └─Conv2d: 3-11                 [3, 64, 56, 80]           16,384\n",
       "│    │    └─BatchNorm2d: 3-12            [3, 64, 56, 80]           128\n",
       "│    │    └─ReLU: 3-13                   [3, 64, 56, 80]           --\n",
       "│    │    └─Conv2d: 3-14                 [3, 64, 56, 80]           36,864\n",
       "│    │    └─BatchNorm2d: 3-15            [3, 64, 56, 80]           128\n",
       "│    │    └─ReLU: 3-16                   [3, 64, 56, 80]           --\n",
       "│    │    └─Conv2d: 3-17                 [3, 256, 56, 80]          16,384\n",
       "│    │    └─BatchNorm2d: 3-18            [3, 256, 56, 80]          512\n",
       "│    │    └─ReLU: 3-19                   [3, 256, 56, 80]          --\n",
       "│    └─Bottleneck: 2-3                   [3, 256, 56, 80]          --\n",
       "│    │    └─Conv2d: 3-20                 [3, 64, 56, 80]           16,384\n",
       "│    │    └─BatchNorm2d: 3-21            [3, 64, 56, 80]           128\n",
       "│    │    └─ReLU: 3-22                   [3, 64, 56, 80]           --\n",
       "│    │    └─Conv2d: 3-23                 [3, 64, 56, 80]           36,864\n",
       "│    │    └─BatchNorm2d: 3-24            [3, 64, 56, 80]           128\n",
       "│    │    └─ReLU: 3-25                   [3, 64, 56, 80]           --\n",
       "│    │    └─Conv2d: 3-26                 [3, 256, 56, 80]          16,384\n",
       "│    │    └─BatchNorm2d: 3-27            [3, 256, 56, 80]          512\n",
       "│    │    └─ReLU: 3-28                   [3, 256, 56, 80]          --\n",
       "├─Sequential: 1-6                        [3, 512, 28, 40]          --\n",
       "│    └─Bottleneck: 2-4                   [3, 512, 28, 40]          --\n",
       "│    │    └─Conv2d: 3-29                 [3, 128, 56, 80]          32,768\n",
       "│    │    └─BatchNorm2d: 3-30            [3, 128, 56, 80]          256\n",
       "│    │    └─ReLU: 3-31                   [3, 128, 56, 80]          --\n",
       "│    │    └─Conv2d: 3-32                 [3, 128, 28, 40]          147,456\n",
       "│    │    └─BatchNorm2d: 3-33            [3, 128, 28, 40]          256\n",
       "│    │    └─ReLU: 3-34                   [3, 128, 28, 40]          --\n",
       "│    │    └─Conv2d: 3-35                 [3, 512, 28, 40]          65,536\n",
       "│    │    └─BatchNorm2d: 3-36            [3, 512, 28, 40]          1,024\n",
       "│    │    └─Sequential: 3-37             [3, 512, 28, 40]          132,096\n",
       "│    │    └─ReLU: 3-38                   [3, 512, 28, 40]          --\n",
       "│    └─Bottleneck: 2-5                   [3, 512, 28, 40]          --\n",
       "│    │    └─Conv2d: 3-39                 [3, 128, 28, 40]          65,536\n",
       "│    │    └─BatchNorm2d: 3-40            [3, 128, 28, 40]          256\n",
       "│    │    └─ReLU: 3-41                   [3, 128, 28, 40]          --\n",
       "│    │    └─Conv2d: 3-42                 [3, 128, 28, 40]          147,456\n",
       "│    │    └─BatchNorm2d: 3-43            [3, 128, 28, 40]          256\n",
       "│    │    └─ReLU: 3-44                   [3, 128, 28, 40]          --\n",
       "│    │    └─Conv2d: 3-45                 [3, 512, 28, 40]          65,536\n",
       "│    │    └─BatchNorm2d: 3-46            [3, 512, 28, 40]          1,024\n",
       "│    │    └─ReLU: 3-47                   [3, 512, 28, 40]          --\n",
       "│    └─Bottleneck: 2-6                   [3, 512, 28, 40]          --\n",
       "│    │    └─Conv2d: 3-48                 [3, 128, 28, 40]          65,536\n",
       "│    │    └─BatchNorm2d: 3-49            [3, 128, 28, 40]          256\n",
       "│    │    └─ReLU: 3-50                   [3, 128, 28, 40]          --\n",
       "│    │    └─Conv2d: 3-51                 [3, 128, 28, 40]          147,456\n",
       "│    │    └─BatchNorm2d: 3-52            [3, 128, 28, 40]          256\n",
       "│    │    └─ReLU: 3-53                   [3, 128, 28, 40]          --\n",
       "│    │    └─Conv2d: 3-54                 [3, 512, 28, 40]          65,536\n",
       "│    │    └─BatchNorm2d: 3-55            [3, 512, 28, 40]          1,024\n",
       "│    │    └─ReLU: 3-56                   [3, 512, 28, 40]          --\n",
       "│    └─Bottleneck: 2-7                   [3, 512, 28, 40]          --\n",
       "│    │    └─Conv2d: 3-57                 [3, 128, 28, 40]          65,536\n",
       "│    │    └─BatchNorm2d: 3-58            [3, 128, 28, 40]          256\n",
       "│    │    └─ReLU: 3-59                   [3, 128, 28, 40]          --\n",
       "│    │    └─Conv2d: 3-60                 [3, 128, 28, 40]          147,456\n",
       "│    │    └─BatchNorm2d: 3-61            [3, 128, 28, 40]          256\n",
       "│    │    └─ReLU: 3-62                   [3, 128, 28, 40]          --\n",
       "│    │    └─Conv2d: 3-63                 [3, 512, 28, 40]          65,536\n",
       "│    │    └─BatchNorm2d: 3-64            [3, 512, 28, 40]          1,024\n",
       "│    │    └─ReLU: 3-65                   [3, 512, 28, 40]          --\n",
       "├─Sequential: 1-7                        [3, 1024, 14, 20]         --\n",
       "│    └─Bottleneck: 2-8                   [3, 1024, 14, 20]         --\n",
       "│    │    └─Conv2d: 3-66                 [3, 256, 28, 40]          131,072\n",
       "│    │    └─BatchNorm2d: 3-67            [3, 256, 28, 40]          512\n",
       "│    │    └─ReLU: 3-68                   [3, 256, 28, 40]          --\n",
       "│    │    └─Conv2d: 3-69                 [3, 256, 14, 20]          589,824\n",
       "│    │    └─BatchNorm2d: 3-70            [3, 256, 14, 20]          512\n",
       "│    │    └─ReLU: 3-71                   [3, 256, 14, 20]          --\n",
       "│    │    └─Conv2d: 3-72                 [3, 1024, 14, 20]         262,144\n",
       "│    │    └─BatchNorm2d: 3-73            [3, 1024, 14, 20]         2,048\n",
       "│    │    └─Sequential: 3-74             [3, 1024, 14, 20]         526,336\n",
       "│    │    └─ReLU: 3-75                   [3, 1024, 14, 20]         --\n",
       "│    └─Bottleneck: 2-9                   [3, 1024, 14, 20]         --\n",
       "│    │    └─Conv2d: 3-76                 [3, 256, 14, 20]          262,144\n",
       "│    │    └─BatchNorm2d: 3-77            [3, 256, 14, 20]          512\n",
       "│    │    └─ReLU: 3-78                   [3, 256, 14, 20]          --\n",
       "│    │    └─Conv2d: 3-79                 [3, 256, 14, 20]          589,824\n",
       "│    │    └─BatchNorm2d: 3-80            [3, 256, 14, 20]          512\n",
       "│    │    └─ReLU: 3-81                   [3, 256, 14, 20]          --\n",
       "│    │    └─Conv2d: 3-82                 [3, 1024, 14, 20]         262,144\n",
       "│    │    └─BatchNorm2d: 3-83            [3, 1024, 14, 20]         2,048\n",
       "│    │    └─ReLU: 3-84                   [3, 1024, 14, 20]         --\n",
       "│    └─Bottleneck: 2-10                  [3, 1024, 14, 20]         --\n",
       "│    │    └─Conv2d: 3-85                 [3, 256, 14, 20]          262,144\n",
       "│    │    └─BatchNorm2d: 3-86            [3, 256, 14, 20]          512\n",
       "│    │    └─ReLU: 3-87                   [3, 256, 14, 20]          --\n",
       "│    │    └─Conv2d: 3-88                 [3, 256, 14, 20]          589,824\n",
       "│    │    └─BatchNorm2d: 3-89            [3, 256, 14, 20]          512\n",
       "│    │    └─ReLU: 3-90                   [3, 256, 14, 20]          --\n",
       "│    │    └─Conv2d: 3-91                 [3, 1024, 14, 20]         262,144\n",
       "│    │    └─BatchNorm2d: 3-92            [3, 1024, 14, 20]         2,048\n",
       "│    │    └─ReLU: 3-93                   [3, 1024, 14, 20]         --\n",
       "│    └─Bottleneck: 2-11                  [3, 1024, 14, 20]         --\n",
       "│    │    └─Conv2d: 3-94                 [3, 256, 14, 20]          262,144\n",
       "│    │    └─BatchNorm2d: 3-95            [3, 256, 14, 20]          512\n",
       "│    │    └─ReLU: 3-96                   [3, 256, 14, 20]          --\n",
       "│    │    └─Conv2d: 3-97                 [3, 256, 14, 20]          589,824\n",
       "│    │    └─BatchNorm2d: 3-98            [3, 256, 14, 20]          512\n",
       "│    │    └─ReLU: 3-99                   [3, 256, 14, 20]          --\n",
       "│    │    └─Conv2d: 3-100                [3, 1024, 14, 20]         262,144\n",
       "│    │    └─BatchNorm2d: 3-101           [3, 1024, 14, 20]         2,048\n",
       "│    │    └─ReLU: 3-102                  [3, 1024, 14, 20]         --\n",
       "│    └─Bottleneck: 2-12                  [3, 1024, 14, 20]         --\n",
       "│    │    └─Conv2d: 3-103                [3, 256, 14, 20]          262,144\n",
       "│    │    └─BatchNorm2d: 3-104           [3, 256, 14, 20]          512\n",
       "│    │    └─ReLU: 3-105                  [3, 256, 14, 20]          --\n",
       "│    │    └─Conv2d: 3-106                [3, 256, 14, 20]          589,824\n",
       "│    │    └─BatchNorm2d: 3-107           [3, 256, 14, 20]          512\n",
       "│    │    └─ReLU: 3-108                  [3, 256, 14, 20]          --\n",
       "│    │    └─Conv2d: 3-109                [3, 1024, 14, 20]         262,144\n",
       "│    │    └─BatchNorm2d: 3-110           [3, 1024, 14, 20]         2,048\n",
       "│    │    └─ReLU: 3-111                  [3, 1024, 14, 20]         --\n",
       "│    └─Bottleneck: 2-13                  [3, 1024, 14, 20]         --\n",
       "│    │    └─Conv2d: 3-112                [3, 256, 14, 20]          262,144\n",
       "│    │    └─BatchNorm2d: 3-113           [3, 256, 14, 20]          512\n",
       "│    │    └─ReLU: 3-114                  [3, 256, 14, 20]          --\n",
       "│    │    └─Conv2d: 3-115                [3, 256, 14, 20]          589,824\n",
       "│    │    └─BatchNorm2d: 3-116           [3, 256, 14, 20]          512\n",
       "│    │    └─ReLU: 3-117                  [3, 256, 14, 20]          --\n",
       "│    │    └─Conv2d: 3-118                [3, 1024, 14, 20]         262,144\n",
       "│    │    └─BatchNorm2d: 3-119           [3, 1024, 14, 20]         2,048\n",
       "│    │    └─ReLU: 3-120                  [3, 1024, 14, 20]         --\n",
       "│    └─Bottleneck: 2-14                  [3, 1024, 14, 20]         --\n",
       "│    │    └─Conv2d: 3-121                [3, 256, 14, 20]          262,144\n",
       "│    │    └─BatchNorm2d: 3-122           [3, 256, 14, 20]          512\n",
       "│    │    └─ReLU: 3-123                  [3, 256, 14, 20]          --\n",
       "│    │    └─Conv2d: 3-124                [3, 256, 14, 20]          589,824\n",
       "│    │    └─BatchNorm2d: 3-125           [3, 256, 14, 20]          512\n",
       "│    │    └─ReLU: 3-126                  [3, 256, 14, 20]          --\n",
       "│    │    └─Conv2d: 3-127                [3, 1024, 14, 20]         262,144\n",
       "│    │    └─BatchNorm2d: 3-128           [3, 1024, 14, 20]         2,048\n",
       "│    │    └─ReLU: 3-129                  [3, 1024, 14, 20]         --\n",
       "│    └─Bottleneck: 2-15                  [3, 1024, 14, 20]         --\n",
       "│    │    └─Conv2d: 3-130                [3, 256, 14, 20]          262,144\n",
       "│    │    └─BatchNorm2d: 3-131           [3, 256, 14, 20]          512\n",
       "│    │    └─ReLU: 3-132                  [3, 256, 14, 20]          --\n",
       "│    │    └─Conv2d: 3-133                [3, 256, 14, 20]          589,824\n",
       "│    │    └─BatchNorm2d: 3-134           [3, 256, 14, 20]          512\n",
       "│    │    └─ReLU: 3-135                  [3, 256, 14, 20]          --\n",
       "│    │    └─Conv2d: 3-136                [3, 1024, 14, 20]         262,144\n",
       "│    │    └─BatchNorm2d: 3-137           [3, 1024, 14, 20]         2,048\n",
       "│    │    └─ReLU: 3-138                  [3, 1024, 14, 20]         --\n",
       "│    └─Bottleneck: 2-16                  [3, 1024, 14, 20]         --\n",
       "│    │    └─Conv2d: 3-139                [3, 256, 14, 20]          262,144\n",
       "│    │    └─BatchNorm2d: 3-140           [3, 256, 14, 20]          512\n",
       "│    │    └─ReLU: 3-141                  [3, 256, 14, 20]          --\n",
       "│    │    └─Conv2d: 3-142                [3, 256, 14, 20]          589,824\n",
       "│    │    └─BatchNorm2d: 3-143           [3, 256, 14, 20]          512\n",
       "│    │    └─ReLU: 3-144                  [3, 256, 14, 20]          --\n",
       "│    │    └─Conv2d: 3-145                [3, 1024, 14, 20]         262,144\n",
       "│    │    └─BatchNorm2d: 3-146           [3, 1024, 14, 20]         2,048\n",
       "│    │    └─ReLU: 3-147                  [3, 1024, 14, 20]         --\n",
       "│    └─Bottleneck: 2-17                  [3, 1024, 14, 20]         --\n",
       "│    │    └─Conv2d: 3-148                [3, 256, 14, 20]          262,144\n",
       "│    │    └─BatchNorm2d: 3-149           [3, 256, 14, 20]          512\n",
       "│    │    └─ReLU: 3-150                  [3, 256, 14, 20]          --\n",
       "│    │    └─Conv2d: 3-151                [3, 256, 14, 20]          589,824\n",
       "│    │    └─BatchNorm2d: 3-152           [3, 256, 14, 20]          512\n",
       "│    │    └─ReLU: 3-153                  [3, 256, 14, 20]          --\n",
       "│    │    └─Conv2d: 3-154                [3, 1024, 14, 20]         262,144\n",
       "│    │    └─BatchNorm2d: 3-155           [3, 1024, 14, 20]         2,048\n",
       "│    │    └─ReLU: 3-156                  [3, 1024, 14, 20]         --\n",
       "│    └─Bottleneck: 2-18                  [3, 1024, 14, 20]         --\n",
       "│    │    └─Conv2d: 3-157                [3, 256, 14, 20]          262,144\n",
       "│    │    └─BatchNorm2d: 3-158           [3, 256, 14, 20]          512\n",
       "│    │    └─ReLU: 3-159                  [3, 256, 14, 20]          --\n",
       "│    │    └─Conv2d: 3-160                [3, 256, 14, 20]          589,824\n",
       "│    │    └─BatchNorm2d: 3-161           [3, 256, 14, 20]          512\n",
       "│    │    └─ReLU: 3-162                  [3, 256, 14, 20]          --\n",
       "│    │    └─Conv2d: 3-163                [3, 1024, 14, 20]         262,144\n",
       "│    │    └─BatchNorm2d: 3-164           [3, 1024, 14, 20]         2,048\n",
       "│    │    └─ReLU: 3-165                  [3, 1024, 14, 20]         --\n",
       "│    └─Bottleneck: 2-19                  [3, 1024, 14, 20]         --\n",
       "│    │    └─Conv2d: 3-166                [3, 256, 14, 20]          262,144\n",
       "│    │    └─BatchNorm2d: 3-167           [3, 256, 14, 20]          512\n",
       "│    │    └─ReLU: 3-168                  [3, 256, 14, 20]          --\n",
       "│    │    └─Conv2d: 3-169                [3, 256, 14, 20]          589,824\n",
       "│    │    └─BatchNorm2d: 3-170           [3, 256, 14, 20]          512\n",
       "│    │    └─ReLU: 3-171                  [3, 256, 14, 20]          --\n",
       "│    │    └─Conv2d: 3-172                [3, 1024, 14, 20]         262,144\n",
       "│    │    └─BatchNorm2d: 3-173           [3, 1024, 14, 20]         2,048\n",
       "│    │    └─ReLU: 3-174                  [3, 1024, 14, 20]         --\n",
       "│    └─Bottleneck: 2-20                  [3, 1024, 14, 20]         --\n",
       "│    │    └─Conv2d: 3-175                [3, 256, 14, 20]          262,144\n",
       "│    │    └─BatchNorm2d: 3-176           [3, 256, 14, 20]          512\n",
       "│    │    └─ReLU: 3-177                  [3, 256, 14, 20]          --\n",
       "│    │    └─Conv2d: 3-178                [3, 256, 14, 20]          589,824\n",
       "│    │    └─BatchNorm2d: 3-179           [3, 256, 14, 20]          512\n",
       "│    │    └─ReLU: 3-180                  [3, 256, 14, 20]          --\n",
       "│    │    └─Conv2d: 3-181                [3, 1024, 14, 20]         262,144\n",
       "│    │    └─BatchNorm2d: 3-182           [3, 1024, 14, 20]         2,048\n",
       "│    │    └─ReLU: 3-183                  [3, 1024, 14, 20]         --\n",
       "│    └─Bottleneck: 2-21                  [3, 1024, 14, 20]         --\n",
       "│    │    └─Conv2d: 3-184                [3, 256, 14, 20]          262,144\n",
       "│    │    └─BatchNorm2d: 3-185           [3, 256, 14, 20]          512\n",
       "│    │    └─ReLU: 3-186                  [3, 256, 14, 20]          --\n",
       "│    │    └─Conv2d: 3-187                [3, 256, 14, 20]          589,824\n",
       "│    │    └─BatchNorm2d: 3-188           [3, 256, 14, 20]          512\n",
       "│    │    └─ReLU: 3-189                  [3, 256, 14, 20]          --\n",
       "│    │    └─Conv2d: 3-190                [3, 1024, 14, 20]         262,144\n",
       "│    │    └─BatchNorm2d: 3-191           [3, 1024, 14, 20]         2,048\n",
       "│    │    └─ReLU: 3-192                  [3, 1024, 14, 20]         --\n",
       "│    └─Bottleneck: 2-22                  [3, 1024, 14, 20]         --\n",
       "│    │    └─Conv2d: 3-193                [3, 256, 14, 20]          262,144\n",
       "│    │    └─BatchNorm2d: 3-194           [3, 256, 14, 20]          512\n",
       "│    │    └─ReLU: 3-195                  [3, 256, 14, 20]          --\n",
       "│    │    └─Conv2d: 3-196                [3, 256, 14, 20]          589,824\n",
       "│    │    └─BatchNorm2d: 3-197           [3, 256, 14, 20]          512\n",
       "│    │    └─ReLU: 3-198                  [3, 256, 14, 20]          --\n",
       "│    │    └─Conv2d: 3-199                [3, 1024, 14, 20]         262,144\n",
       "│    │    └─BatchNorm2d: 3-200           [3, 1024, 14, 20]         2,048\n",
       "│    │    └─ReLU: 3-201                  [3, 1024, 14, 20]         --\n",
       "│    └─Bottleneck: 2-23                  [3, 1024, 14, 20]         --\n",
       "│    │    └─Conv2d: 3-202                [3, 256, 14, 20]          262,144\n",
       "│    │    └─BatchNorm2d: 3-203           [3, 256, 14, 20]          512\n",
       "│    │    └─ReLU: 3-204                  [3, 256, 14, 20]          --\n",
       "│    │    └─Conv2d: 3-205                [3, 256, 14, 20]          589,824\n",
       "│    │    └─BatchNorm2d: 3-206           [3, 256, 14, 20]          512\n",
       "│    │    └─ReLU: 3-207                  [3, 256, 14, 20]          --\n",
       "│    │    └─Conv2d: 3-208                [3, 1024, 14, 20]         262,144\n",
       "│    │    └─BatchNorm2d: 3-209           [3, 1024, 14, 20]         2,048\n",
       "│    │    └─ReLU: 3-210                  [3, 1024, 14, 20]         --\n",
       "│    └─Bottleneck: 2-24                  [3, 1024, 14, 20]         --\n",
       "│    │    └─Conv2d: 3-211                [3, 256, 14, 20]          262,144\n",
       "│    │    └─BatchNorm2d: 3-212           [3, 256, 14, 20]          512\n",
       "│    │    └─ReLU: 3-213                  [3, 256, 14, 20]          --\n",
       "│    │    └─Conv2d: 3-214                [3, 256, 14, 20]          589,824\n",
       "│    │    └─BatchNorm2d: 3-215           [3, 256, 14, 20]          512\n",
       "│    │    └─ReLU: 3-216                  [3, 256, 14, 20]          --\n",
       "│    │    └─Conv2d: 3-217                [3, 1024, 14, 20]         262,144\n",
       "│    │    └─BatchNorm2d: 3-218           [3, 1024, 14, 20]         2,048\n",
       "│    │    └─ReLU: 3-219                  [3, 1024, 14, 20]         --\n",
       "│    └─Bottleneck: 2-25                  [3, 1024, 14, 20]         --\n",
       "│    │    └─Conv2d: 3-220                [3, 256, 14, 20]          262,144\n",
       "│    │    └─BatchNorm2d: 3-221           [3, 256, 14, 20]          512\n",
       "│    │    └─ReLU: 3-222                  [3, 256, 14, 20]          --\n",
       "│    │    └─Conv2d: 3-223                [3, 256, 14, 20]          589,824\n",
       "│    │    └─BatchNorm2d: 3-224           [3, 256, 14, 20]          512\n",
       "│    │    └─ReLU: 3-225                  [3, 256, 14, 20]          --\n",
       "│    │    └─Conv2d: 3-226                [3, 1024, 14, 20]         262,144\n",
       "│    │    └─BatchNorm2d: 3-227           [3, 1024, 14, 20]         2,048\n",
       "│    │    └─ReLU: 3-228                  [3, 1024, 14, 20]         --\n",
       "│    └─Bottleneck: 2-26                  [3, 1024, 14, 20]         --\n",
       "│    │    └─Conv2d: 3-229                [3, 256, 14, 20]          262,144\n",
       "│    │    └─BatchNorm2d: 3-230           [3, 256, 14, 20]          512\n",
       "│    │    └─ReLU: 3-231                  [3, 256, 14, 20]          --\n",
       "│    │    └─Conv2d: 3-232                [3, 256, 14, 20]          589,824\n",
       "│    │    └─BatchNorm2d: 3-233           [3, 256, 14, 20]          512\n",
       "│    │    └─ReLU: 3-234                  [3, 256, 14, 20]          --\n",
       "│    │    └─Conv2d: 3-235                [3, 1024, 14, 20]         262,144\n",
       "│    │    └─BatchNorm2d: 3-236           [3, 1024, 14, 20]         2,048\n",
       "│    │    └─ReLU: 3-237                  [3, 1024, 14, 20]         --\n",
       "│    └─Bottleneck: 2-27                  [3, 1024, 14, 20]         --\n",
       "│    │    └─Conv2d: 3-238                [3, 256, 14, 20]          262,144\n",
       "│    │    └─BatchNorm2d: 3-239           [3, 256, 14, 20]          512\n",
       "│    │    └─ReLU: 3-240                  [3, 256, 14, 20]          --\n",
       "│    │    └─Conv2d: 3-241                [3, 256, 14, 20]          589,824\n",
       "│    │    └─BatchNorm2d: 3-242           [3, 256, 14, 20]          512\n",
       "│    │    └─ReLU: 3-243                  [3, 256, 14, 20]          --\n",
       "│    │    └─Conv2d: 3-244                [3, 1024, 14, 20]         262,144\n",
       "│    │    └─BatchNorm2d: 3-245           [3, 1024, 14, 20]         2,048\n",
       "│    │    └─ReLU: 3-246                  [3, 1024, 14, 20]         --\n",
       "│    └─Bottleneck: 2-28                  [3, 1024, 14, 20]         --\n",
       "│    │    └─Conv2d: 3-247                [3, 256, 14, 20]          262,144\n",
       "│    │    └─BatchNorm2d: 3-248           [3, 256, 14, 20]          512\n",
       "│    │    └─ReLU: 3-249                  [3, 256, 14, 20]          --\n",
       "│    │    └─Conv2d: 3-250                [3, 256, 14, 20]          589,824\n",
       "│    │    └─BatchNorm2d: 3-251           [3, 256, 14, 20]          512\n",
       "│    │    └─ReLU: 3-252                  [3, 256, 14, 20]          --\n",
       "│    │    └─Conv2d: 3-253                [3, 1024, 14, 20]         262,144\n",
       "│    │    └─BatchNorm2d: 3-254           [3, 1024, 14, 20]         2,048\n",
       "│    │    └─ReLU: 3-255                  [3, 1024, 14, 20]         --\n",
       "│    └─Bottleneck: 2-29                  [3, 1024, 14, 20]         --\n",
       "│    │    └─Conv2d: 3-256                [3, 256, 14, 20]          262,144\n",
       "│    │    └─BatchNorm2d: 3-257           [3, 256, 14, 20]          512\n",
       "│    │    └─ReLU: 3-258                  [3, 256, 14, 20]          --\n",
       "│    │    └─Conv2d: 3-259                [3, 256, 14, 20]          589,824\n",
       "│    │    └─BatchNorm2d: 3-260           [3, 256, 14, 20]          512\n",
       "│    │    └─ReLU: 3-261                  [3, 256, 14, 20]          --\n",
       "│    │    └─Conv2d: 3-262                [3, 1024, 14, 20]         262,144\n",
       "│    │    └─BatchNorm2d: 3-263           [3, 1024, 14, 20]         2,048\n",
       "│    │    └─ReLU: 3-264                  [3, 1024, 14, 20]         --\n",
       "│    └─Bottleneck: 2-30                  [3, 1024, 14, 20]         --\n",
       "│    │    └─Conv2d: 3-265                [3, 256, 14, 20]          262,144\n",
       "│    │    └─BatchNorm2d: 3-266           [3, 256, 14, 20]          512\n",
       "│    │    └─ReLU: 3-267                  [3, 256, 14, 20]          --\n",
       "│    │    └─Conv2d: 3-268                [3, 256, 14, 20]          589,824\n",
       "│    │    └─BatchNorm2d: 3-269           [3, 256, 14, 20]          512\n",
       "│    │    └─ReLU: 3-270                  [3, 256, 14, 20]          --\n",
       "│    │    └─Conv2d: 3-271                [3, 1024, 14, 20]         262,144\n",
       "│    │    └─BatchNorm2d: 3-272           [3, 1024, 14, 20]         2,048\n",
       "│    │    └─ReLU: 3-273                  [3, 1024, 14, 20]         --\n",
       "==========================================================================================\n",
       "Total params: 27,535,424\n",
       "Trainable params: 27,535,424\n",
       "Non-trainable params: 0\n",
       "Total mult-adds (G): 195.93\n",
       "==========================================================================================\n",
       "Input size (MB): 2.58\n",
       "Forward/backward pass size (MB): 1070.04\n",
       "Params size (MB): 110.14\n",
       "Estimated Total Size (MB): 1182.76\n",
       "=========================================================================================="
      ]
     },
     "metadata": {},
     "execution_count": 34
    }
   ],
   "metadata": {}
  },
  {
   "cell_type": "code",
   "execution_count": 10,
   "source": [
    "class CNNBackbone(nn.Module):\r\n",
    "    def __init__(self, model=\"resnet101\", pretrained=True):\r\n",
    "        super(CNNBackbone, self).__init__()\r\n",
    "        self.model_name = model\r\n",
    "        self.pretrained = pretrained\r\n",
    "        if self.model_name == \"resnet101\" and pretrained:\r\n",
    "            model = models.resnet101(pretrained=True)\r\n",
    "            self.cnn = torch.nn.Sequential(*(list(model.children())[:-3])).eval()\r\n",
    "        else:\r\n",
    "            raise NotImplementedError(\"Please use some pretrained CNN models\")\r\n",
    "        \r\n",
    "    \r\n",
    "    def forward(self, x):\r\n",
    "        y = self.cnn(x[0])\r\n",
    "        out = y.unsqueeze(0)\r\n",
    "        # out.shape = [batch_size, T, C, H, W] = [1, T, 1024, 16, 20]\r\n",
    "        return out"
   ],
   "outputs": [],
   "metadata": {}
  },
  {
   "cell_type": "code",
   "execution_count": 12,
   "source": [
    "backbone = CNNBackbone().to(device)\r\n",
    "y = backbone(a.to(device))\r\n",
    "\r\n",
    "y = y.to(\"cpu\")\r\n",
    "y.shape"
   ],
   "outputs": [
    {
     "output_type": "execute_result",
     "data": {
      "text/plain": [
       "torch.Size([1, 3, 1024, 16, 20])"
      ]
     },
     "metadata": {},
     "execution_count": 12
    }
   ],
   "metadata": {}
  },
  {
   "cell_type": "markdown",
   "source": [
    "### Position Encoding"
   ],
   "metadata": {}
  },
  {
   "cell_type": "code",
   "execution_count": 13,
   "source": [
    "class PositionalEncoding3D(nn.Module):\r\n",
    "    \"\"\"https://github.com/tatp22/multidim-positional-encoding/blob/master/positional_encodings/positional_encodings.py\"\"\"\r\n",
    "    \r\n",
    "    def __init__(self, channels=1024):\r\n",
    "        super(PositionalEncoding3D, self).__init__()\r\n",
    "        channels = int(np.ceil(channels/6)*2)\r\n",
    "        if channels % 2:\r\n",
    "            channels += 1\r\n",
    "        self.channels = channels\r\n",
    "        inv_freq = 1. / (10000 ** (torch.arange(0, channels, 2).float() / channels))\r\n",
    "        self.register_buffer('inv_freq', inv_freq)\r\n",
    "\r\n",
    "    def forward(self, tensor):\r\n",
    "        # Input tensor shape: [batch_size, T, C, H, W] \r\n",
    "        \"\"\"\r\n",
    "        :param tensor: A 5d tensor of size (batch_size, x, y, z, ch)\r\n",
    "        :return: Positional Encoding Matrix of size (batch_size, x, y, z, ch)\r\n",
    "        \"\"\"\r\n",
    "        tensor = tensor.permute(0, 4, 3, 1, 2)\r\n",
    "        if len(tensor.shape) != 5:\r\n",
    "            raise RuntimeError(\"The input tensor has to be 5d!\")\r\n",
    "\r\n",
    "        batch_size, x, y, z, orig_ch = tensor.shape\r\n",
    "        pos_x = torch.arange(x, device=tensor.device).type(self.inv_freq.type())\r\n",
    "        pos_y = torch.arange(y, device=tensor.device).type(self.inv_freq.type())\r\n",
    "        pos_z = torch.arange(z, device=tensor.device).type(self.inv_freq.type())\r\n",
    "        sin_inp_x = torch.einsum(\"i,j->ij\", pos_x, self.inv_freq)\r\n",
    "        sin_inp_y = torch.einsum(\"i,j->ij\", pos_y, self.inv_freq)\r\n",
    "        sin_inp_z = torch.einsum(\"i,j->ij\", pos_z, self.inv_freq)\r\n",
    "        emb_x = torch.cat((sin_inp_x.sin(), sin_inp_x.cos()), dim=-1).unsqueeze(1).unsqueeze(1)\r\n",
    "        emb_y = torch.cat((sin_inp_y.sin(), sin_inp_y.cos()), dim=-1).unsqueeze(1)\r\n",
    "        emb_z = torch.cat((sin_inp_z.sin(), sin_inp_z.cos()), dim=-1)\r\n",
    "        emb = torch.zeros((x,y,z,self.channels*3),device=tensor.device).type(tensor.type())\r\n",
    "        emb[:,:,:,:self.channels] = emb_x\r\n",
    "        emb[:,:,:,self.channels:2*self.channels] = emb_y\r\n",
    "        emb[:,:,:,2*self.channels:] = emb_z\r\n",
    "        out = emb[None,:,:,:,:orig_ch].repeat(batch_size, 1, 1, 1, 1)\r\n",
    "        out = out.permute(0, 3, 4, 2, 1)\r\n",
    "        return out"
   ],
   "outputs": [],
   "metadata": {}
  },
  {
   "cell_type": "code",
   "execution_count": 86,
   "source": [
    "pe = PositionalEncoding3D(1024)\r\n",
    "z = pe(y)\r\n",
    "z.shape"
   ],
   "outputs": [
    {
     "output_type": "execute_result",
     "data": {
      "text/plain": [
       "torch.Size([1, 3, 1024, 16, 20])"
      ]
     },
     "metadata": {},
     "execution_count": 86
    }
   ],
   "metadata": {}
  },
  {
   "cell_type": "code",
   "execution_count": 92,
   "source": [
    "m = z.permute(0, 2, 3, 4, 1)\r\n",
    "# Flatten HWT axies to: [batch_size, channel, HxWxT]\r\n",
    "# m = torch.flatten(m, start_dim=2)\r\n",
    "# m = torch.squeeze(m, 0)\r\n",
    "m = m.flatten(2).squeeze(0)\r\n",
    "m.shape"
   ],
   "outputs": [
    {
     "output_type": "execute_result",
     "data": {
      "text/plain": [
       "torch.Size([1024, 960])"
      ]
     },
     "metadata": {},
     "execution_count": 92
    }
   ],
   "metadata": {}
  },
  {
   "cell_type": "code",
   "execution_count": 104,
   "source": [
    "in_dim = 1024\r\n",
    "head = 16\r\n",
    "head_dim = in_dim // head\r\n",
    "query_conv = nn.Conv3d(in_channels=in_dim, out_channels=in_dim//8, kernel_size=1)\r\n",
    "m = query_conv(z.permute(0, 2, 3, 4, 1))\r\n",
    "b, C, H, W, T = m.shape"
   ],
   "outputs": [],
   "metadata": {}
  },
  {
   "cell_type": "code",
   "execution_count": 112,
   "source": [
    "query_H = m.permute(0,3,4,1,2).contiguous().view(b*W*T,-1,H).permute(0,2,1)   # [H,W,T,Dim]\r\n",
    "# query_W = m.permute(0,2,1,3,4).contiguous().view(20,-1,16,3)    # [W,H,T,Dim]\r\n",
    "# query_T = m.permute(0,4,1,2,3).contiguous().view(3,-1,16,20)\r\n",
    "query_H.shape"
   ],
   "outputs": [
    {
     "output_type": "execute_result",
     "data": {
      "text/plain": [
       "torch.Size([60, 16, 128])"
      ]
     },
     "metadata": {},
     "execution_count": 112
    }
   ],
   "metadata": {}
  },
  {
   "cell_type": "markdown",
   "source": [
    "### Attention"
   ],
   "metadata": {}
  },
  {
   "cell_type": "code",
   "execution_count": 187,
   "source": [
    "class SparseAttention(nn.Module):\r\n",
    "    \"\"\"Sparse Self Attention Module\"\"\"\r\n",
    "    def __init__(self, in_dim=1024):\r\n",
    "        \"\"\"The only iuput attribute is dimension\"\"\"\r\n",
    "        super(SparseAttention, self).__init__()\r\n",
    "        self.query_conv = nn.Conv3d(in_channels=in_dim, out_channels=in_dim//8, kernel_size=1)\r\n",
    "        self.key_conv = nn.Conv3d(in_channels=in_dim, out_channels=in_dim//8, kernel_size=1)\r\n",
    "        self.value_conv = nn.Conv3d(in_channels=in_dim, out_channels=in_dim, kernel_size=1)\r\n",
    "        self.softmax = nn.Softmax(dim=4)\r\n",
    "        self.gamma = nn.Parameter(torch.zeros(1))\r\n",
    "    def forward(self, x):\r\n",
    "        # Input tensor shape: [batch_size, T, channel, H, W] \r\n",
    "        # Permute x to : [batch_size, channel, H, W, T]\r\n",
    "        x = x.permute(0, 2, 3, 4, 1)\r\n",
    "        b, C, H, W, T = x.shape\r\n",
    "        proj_query = self.query_conv(x)\r\n",
    "        proj_query_H = proj_query.permute(0,3,4,1,2).contiguous().view(b*W*T,-1,H).permute(0,2,1) # [b*W*T,H,C]\r\n",
    "        proj_query_W = proj_query.permute(0,2,4,1,3).contiguous().view(b*H*T,-1,W).permute(0,2,1) # [b*H*T,W,C]\r\n",
    "        proj_query_T = proj_query.permute(0,2,3,1,4).contiguous().view(b*W*H,-1,T).permute(0,2,1) # [b*W*H,T,C]\r\n",
    "\r\n",
    "        proj_key = self.key_conv(x)\r\n",
    "        proj_key_H = proj_key.permute(0,3,4,1,2).contiguous().view(b*W*T,-1,H)      # [b*W*T,C,H]\r\n",
    "        proj_key_W = proj_key.permute(0,2,4,1,3).contiguous().view(b*H*T,-1,W)      # [b*H*T,C,W]\r\n",
    "        proj_key_T = proj_key.permute(0,2,3,1,4).contiguous().view(b*W*H,-1,T)      # [b*W*H,C,T]\r\n",
    "\r\n",
    "        proj_value = self.value_conv(x)\r\n",
    "        proj_value_H = proj_value.permute(0,3,4,1,2).contiguous().view(b*W*T,-1,H)      # [b*W*T,C,H]\r\n",
    "        proj_value_W = proj_value.permute(0,2,4,1,3).contiguous().view(b*H*T,-1,W)      # [b*H*T,C,W]\r\n",
    "        proj_value_T = proj_value.permute(0,2,3,1,4).contiguous().view(b*W*H,-1,T)      # [b*W*H,C,T]\r\n",
    "\r\n",
    "        energy_H = torch.bmm(proj_query_H, proj_key_H).view(b,W,T,H,H).permute(0,3,1,2,4) # [b,H,W,T,H]\r\n",
    "        energy_W = torch.bmm(proj_query_W, proj_key_W).view(b,H,T,W,W).permute(0,1,3,2,4) # [b,H,W,T,W]\r\n",
    "        energy_T = torch.bmm(proj_query_T, proj_key_T).view(b,H,W,T,T)                    # [b,H,W,T,T]\r\n",
    "        score = self.softmax(torch.cat([energy_H,energy_W,energy_T],4))         # [b,H,W,T,(H+W+T)]\r\n",
    "        \r\n",
    "        att_H = score[:,:,:,:,0:H].permute(0,2,3,1,4).contiguous().view(b*W*T,H,H)      # [b*W*T,H,H]\r\n",
    "        att_W = score[:,:,:,:,H:H+W].permute(0,1,4,2,3).contiguous().view(b*H*T,W,W)    # [b*H*T,W,W]\r\n",
    "        att_T = score[:,:,:,:,H+W:].contiguous().view(b*H*W,T,T)                        # [b*H*W,T,T]\r\n",
    "\r\n",
    "        out_H = torch.bmm(proj_value_H, att_H.permute(0,2,1)).view(b,W,T,-1,H).permute(0,3,4,1,2)\r\n",
    "        out_W = torch.bmm(proj_value_W, att_W.permute(0,2,1)).view(b,H,T,-1,W).permute(0,3,1,4,2)\r\n",
    "        out_T = torch.bmm(proj_value_T, att_T.permute(0,2,1)).view(b,H,W,-1,T).permute(0,3,1,2,4)\r\n",
    "        \r\n",
    "        # permute back to [batch_size, T, channel, H, W] \r\n",
    "        output = self.gamma*(out_H + out_T + out_W).permute(0,4,1,2,3)\r\n",
    "\r\n",
    "        return output"
   ],
   "outputs": [],
   "metadata": {}
  },
  {
   "cell_type": "code",
   "execution_count": 192,
   "source": [
    "SA = SparseAttention()\r\n",
    "output = SA(z)\r\n",
    "output.shape, z.shape"
   ],
   "outputs": [
    {
     "output_type": "execute_result",
     "data": {
      "text/plain": [
       "(torch.Size([1, 3, 1024, 16, 20]), torch.Size([1, 3, 1024, 16, 20]))"
      ]
     },
     "metadata": {},
     "execution_count": 192
    }
   ],
   "metadata": {}
  },
  {
   "cell_type": "code",
   "execution_count": 193,
   "source": [
    "norm = nn.LayerNorm(1024)\r\n",
    "output = norm(output.permute(0,3,4,1,2))\r\n",
    "output.shape"
   ],
   "outputs": [
    {
     "output_type": "execute_result",
     "data": {
      "text/plain": [
       "torch.Size([1, 16, 20, 3, 1024])"
      ]
     },
     "metadata": {},
     "execution_count": 193
    }
   ],
   "metadata": {}
  },
  {
   "cell_type": "code",
   "execution_count": 196,
   "source": [
    "fc = nn.Sequential(\r\n",
    "            nn.Linear(in_features=1024, out_features=1024*2),\r\n",
    "            nn.ReLU(),\r\n",
    "            nn.Dropout(0.2),\r\n",
    "            nn.Linear(in_features=1024*2, out_features=1024)\r\n",
    "        )\r\n",
    "y3 = fc(output)\r\n",
    "y3.shape"
   ],
   "outputs": [
    {
     "output_type": "execute_result",
     "data": {
      "text/plain": [
       "torch.Size([1, 16, 20, 3, 1024])"
      ]
     },
     "metadata": {},
     "execution_count": 196
    }
   ],
   "metadata": {}
  },
  {
   "cell_type": "code",
   "execution_count": 181,
   "source": [
    "gamma = nn.Parameter(torch.zeros(1))\r\n",
    "output = gamma*(out_T+out_H+out_W)\r\n",
    "output.shape"
   ],
   "outputs": [
    {
     "output_type": "execute_result",
     "data": {
      "text/plain": [
       "torch.Size([1, 128, 16, 20, 3])"
      ]
     },
     "metadata": {},
     "execution_count": 181
    }
   ],
   "metadata": {}
  },
  {
   "cell_type": "code",
   "execution_count": 22,
   "source": [
    "class SSTEncoder(nn.Module):\r\n",
    "    \"\"\"Define the Multi-head attention -> Add&Norm -> Feed Forward -> Add&Norm module\"\"\"\r\n",
    "    def __init__(self, dim=1024, dropout=0.2):\r\n",
    "        super.__init__()\r\n",
    "\r\n",
    "        # Multi-head attention sub-layer\r\n",
    "        self.attn = SparseAttention(dim)\r\n",
    "        self.norm_1 = nn.LayerNorm(dim)\r\n",
    "        \r\n",
    "        # Feed forward sub-layer\r\n",
    "        self.fc = nn.Sequential(\r\n",
    "            nn.Linear(in_features=dim, out_features=dim*2),\r\n",
    "            nn.ReLU(),\r\n",
    "            nn.Dropout(dropout),\r\n",
    "            nn.Linear(in_features=dim*2, out_features=dim)\r\n",
    "        )\r\n",
    "        self.norm_2 =  nn.LayerNorm(dim)\r\n",
    "    \r\n",
    "    def forward(self, x):\r\n",
    "        y1 = self.attn(x)\r\n",
    "        x2 = (x+y1).permute(0,3,4,1,2)   # permute from [b,T,C,H,W] to [b,H,W,T,C]\r\n",
    "        y2 = self.norm(x2)\r\n",
    "        y3 = self.fc\r\n",
    "    \r\n",
    "        return out\r\n",
    "        "
   ],
   "outputs": [
    {
     "output_type": "error",
     "ename": "SyntaxError",
     "evalue": "non-default argument follows default argument (<ipython-input-22-bf556f944f40>, line 3)",
     "traceback": [
      "\u001b[1;36m  File \u001b[1;32m\"<ipython-input-22-bf556f944f40>\"\u001b[1;36m, line \u001b[1;32m3\u001b[0m\n\u001b[1;33m    def __init__(self, shape, embd_dim, n_head, n_layer, dropout=0.2,\u001b[0m\n\u001b[1;37m                 ^\u001b[0m\n\u001b[1;31mSyntaxError\u001b[0m\u001b[1;31m:\u001b[0m non-default argument follows default argument\n"
     ]
    }
   ],
   "metadata": {}
  },
  {
   "cell_type": "markdown",
   "source": [
    "## Model"
   ],
   "metadata": {}
  },
  {
   "cell_type": "code",
   "execution_count": 22,
   "source": [
    "class MyTransformer(nn.Module):\r\n",
    "    def __init__(self):\r\n",
    "        super(MyTransformer, self).__init__()\r\n",
    "\r\n",
    "        self.backbone = CNNBackbone()\r\n",
    "        self.pos_encoding = PositionalEncoding3D()\r\n",
    "        \r\n",
    "\r\n",
    "    def forward(self, x):\r\n",
    "        # Step 1: subtract feature embedding from CNN backbone\r\n",
    "        y1 = self.backbone(x)\r\n",
    "        # Step 2: Get positional encoding and add it to the feature embedding\r\n",
    "        pe = self.pos_encoding(y1)\r\n",
    "        y2 = pe + y1\r\n",
    "        return y2"
   ],
   "outputs": [],
   "metadata": {}
  },
  {
   "cell_type": "code",
   "execution_count": 23,
   "source": [
    "model = MyTransformer()\r\n",
    "model = model.to(device)\r\n",
    "b = model(a.to(device))"
   ],
   "outputs": [],
   "metadata": {}
  },
  {
   "cell_type": "code",
   "execution_count": 24,
   "source": [
    "b.shape"
   ],
   "outputs": [
    {
     "output_type": "execute_result",
     "data": {
      "text/plain": [
       "torch.Size([1, 3, 1024, 16, 20])"
      ]
     },
     "metadata": {},
     "execution_count": 24
    }
   ],
   "metadata": {}
  },
  {
   "cell_type": "code",
   "execution_count": 25,
   "source": [
    "b.squeeze(0).shape"
   ],
   "outputs": [
    {
     "output_type": "execute_result",
     "data": {
      "text/plain": [
       "torch.Size([3, 1024, 16, 20])"
      ]
     },
     "metadata": {},
     "execution_count": 25
    }
   ],
   "metadata": {}
  },
  {
   "cell_type": "code",
   "execution_count": 26,
   "source": [
    "b.transpose(0,1).resize(1024,960)\r\n",
    "b.shape"
   ],
   "outputs": [
    {
     "output_type": "stream",
     "name": "stderr",
     "text": [
      "C:\\ProgramData\\Anaconda3\\envs\\datasci\\lib\\site-packages\\torch\\tensor.py:474: UserWarning: non-inplace resize is deprecated\n",
      "  warnings.warn(\"non-inplace resize is deprecated\")\n"
     ]
    },
    {
     "output_type": "execute_result",
     "data": {
      "text/plain": [
       "torch.Size([1, 3, 1024, 16, 20])"
      ]
     },
     "metadata": {},
     "execution_count": 26
    }
   ],
   "metadata": {}
  },
  {
   "cell_type": "code",
   "execution_count": null,
   "source": [],
   "outputs": [],
   "metadata": {}
  }
 ],
 "metadata": {
  "orig_nbformat": 4,
  "language_info": {
   "name": "python",
   "version": "3.8.8",
   "mimetype": "text/x-python",
   "codemirror_mode": {
    "name": "ipython",
    "version": 3
   },
   "pygments_lexer": "ipython3",
   "nbconvert_exporter": "python",
   "file_extension": ".py"
  },
  "kernelspec": {
   "name": "python3",
   "display_name": "Python 3.8.8 64-bit ('datasci': conda)"
  },
  "interpreter": {
   "hash": "23d8489b17aa989cee42bd3f3e82cc035b4cfa42fa1ea343caf5051171f57614"
  }
 },
 "nbformat": 4,
 "nbformat_minor": 2
}