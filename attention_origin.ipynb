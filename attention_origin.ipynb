{
 "cells": [
  {
   "cell_type": "markdown",
   "source": [
    "# Attention is All You Need Implementation\r\n",
    "Guided by:   \r\n",
    "http://nlp.seas.harvard.edu/2018/04/03/attention.html"
   ],
   "metadata": {}
  },
  {
   "cell_type": "markdown",
   "source": [
    "## 0. Load Packages and Preparation"
   ],
   "metadata": {}
  },
  {
   "cell_type": "code",
   "execution_count": 1,
   "source": [
    "import numpy as np\r\n",
    "import torch\r\n",
    "import torch.nn as nn\r\n",
    "import torch.nn.functional as F\r\n",
    "import math, copy, time\r\n",
    "from torch.autograd import Variable\r\n",
    "import matplotlib.pyplot as plt\r\n",
    "import seaborn\r\n",
    "seaborn.set_context(context=\"talk\")\r\n",
    "%matplotlib inline"
   ],
   "outputs": [],
   "metadata": {}
  },
  {
   "cell_type": "markdown",
   "source": [
    "## 1. Model Basic Architecture"
   ],
   "metadata": {}
  },
  {
   "cell_type": "code",
   "execution_count": 2,
   "source": [
    "class EncoderDecoder(nn.Module):\r\n",
    "    \"\"\"\r\n",
    "    A typical encoder-decoder structure, base for transformers and other models\r\n",
    "    \"\"\"\r\n",
    "    def __init__(self, encoder, decoder, src_embed, tgt_embed, generator):\r\n",
    "        super(EncoderDecoder, self).__init__()\r\n",
    "        self.encoder = encoder\r\n",
    "        self.decoder = decoder\r\n",
    "        self.src_embed = src_embed\r\n",
    "        self.tgt_embed = tgt_embed\r\n",
    "        self.generator = generator\r\n",
    "    \r\n",
    "    def encode(self, src, src_mask):\r\n",
    "        return self.encoder(self.src_embed(src), src_mask)\r\n",
    "    \r\n",
    "    def decode(self, memory, src_mask, tgt, tgt_mask):\r\n",
    "        return self.decoder(self.tgt_embed(tgt), memory, src_mask, tgt_mask)\r\n",
    "\r\n",
    "    def forward(self, src, tgt, src_mask, tgt_mask):\r\n",
    "        \"Take in and process masked src and target sequences.\"\r\n",
    "        return self.decode(self.encode(src, src_mask), src_mask, tgt, tgt_mask)\r\n",
    "\r\n",
    "# src: the sequence to the encoder\r\n",
    "# src_embed:\r\n",
    "# src_mask: the additive mask for the src sequence\r\n",
    "# tgt: the sequence to the decoder\r\n",
    "# tgt_embed: \r\n",
    "# tgt_mask: the additive mask for the tgt sequence "
   ],
   "outputs": [],
   "metadata": {}
  },
  {
   "cell_type": "code",
   "execution_count": 3,
   "source": [
    "class Generator(nn.Module):\r\n",
    "    \"Define standard linear + softmax generation step.\"\r\n",
    "    def __init__(self, d_model, vocab):\r\n",
    "        super(Generator, self).__init__()\r\n",
    "        self.proj = nn.Linear(d_model, vocab)\r\n",
    "\r\n",
    "    def forward(self, x):\r\n",
    "        return F.log_softmax(self.proj(x), dim=-1)"
   ],
   "outputs": [],
   "metadata": {}
  },
  {
   "cell_type": "markdown",
   "source": [
    "## 2. Encoder and decoder stacks"
   ],
   "metadata": {}
  },
  {
   "cell_type": "code",
   "execution_count": 4,
   "source": [
    "def clones(module, N):\r\n",
    "    \"Produce N identical layers.\"\r\n",
    "    return nn.ModuleList([copy.deepcopy(module) for _ in range(N)])"
   ],
   "outputs": [],
   "metadata": {}
  },
  {
   "cell_type": "code",
   "execution_count": null,
   "source": [
    "class Encoder(nn.Module):\r\n",
    "    \"Core encoder is a stack of N layers\"\r\n",
    "    def __init__(self, layer, N):\r\n",
    "        super(Encoder, self).__init__()\r\n",
    "        # Use the clone function to create a stack of N layers\r\n",
    "        self.layers = clones(layer, N)\r\n",
    "        # LayerNorm: Applies Layer Normalization over a mini-batch of inputs\r\n",
    "        # LayerNorm normalizes all feature values for one word in a sentence in a batch and one word in a sentence\r\n",
    "        # BatchNorm normalizes all words in a sentence x all sentences in a minibach for each feature\r\n",
    "        self.norm = LayerNorm(layer.size)\r\n",
    "        \r\n",
    "    def forward(self, x, mask):\r\n",
    "        \"Pass the input (and mask) through each layer in turn.\"\r\n",
    "        for layer in self.layers:\r\n",
    "            x = layer(x, mask)\r\n",
    "        return self.norm(x)"
   ],
   "outputs": [],
   "metadata": {}
  },
  {
   "cell_type": "code",
   "execution_count": 5,
   "source": [
    "class LayerNorm(nn.Module):\r\n",
    "    \"Construct a layernorm module comtaining residual connection, and layer normalization\"\r\n",
    "    def __init__(self, features, eps=1e-6):\r\n",
    "        super(LayerNorm, self).__init__()\r\n",
    "        self.a_2 = nn.Parameter(torch.ones(features))\r\n",
    "        self.b_2 = nn.Parameter(torch.zeros(features))\r\n",
    "        # ? why use a_2, b_2 here\r\n",
    "        self.eps = eps\r\n",
    "\r\n",
    "    def forward(self, x):\r\n",
    "        mean = x.mean(-1, keepdim=True)\r\n",
    "        std = x.std(-1, keepdim=True)\r\n",
    "        return self.a_2 * (x - mean) / (std + self.eps) + self.b_2"
   ],
   "outputs": [],
   "metadata": {}
  },
  {
   "cell_type": "code",
   "execution_count": 6,
   "source": [
    "class SublayerConnection(nn.Module):\r\n",
    "    \"\"\"\r\n",
    "    A residual connection followed by a layer norm.\r\n",
    "    Note for code simplicity the norm is first as opposed to last.\r\n",
    "    \"\"\"\r\n",
    "    def __init__(self, size, dropout):\r\n",
    "        super(SublayerConnection, self).__init__()\r\n",
    "        self.norm = LayerNorm(size)\r\n",
    "        self.dropout = nn.Dropout(dropout)\r\n",
    "\r\n",
    "    def forward(self, x, sublayer):\r\n",
    "        \"Apply residual connection to any sublayer with the same size.\"\r\n",
    "        return x + self.dropout(sublayer(self.norm(x)))"
   ],
   "outputs": [],
   "metadata": {}
  },
  {
   "cell_type": "code",
   "execution_count": 7,
   "source": [
    "class EncoderLayer(nn.Module):\r\n",
    "    \"Encoder is made up of self-attn and feed forward (defined below)\"\r\n",
    "    def __init__(self, size, self_attn, feed_forward, dropout):\r\n",
    "        super(EncoderLayer, self).__init__()\r\n",
    "        self.self_attn = self_attn\r\n",
    "        self.feed_forward = feed_forward\r\n",
    "        self.sublayer = clones(SublayerConnection(size, dropout), 2)\r\n",
    "        self.size = size\r\n",
    "\r\n",
    "    def forward(self, x, mask):\r\n",
    "        \"Follow Figure 1 (left) for connections.\"\r\n",
    "        x = self.sublayer[0](x, lambda x: self.self_attn(x, x, x, mask))\r\n",
    "        return self.sublayer[1](x, self.feed_forward)"
   ],
   "outputs": [],
   "metadata": {}
  },
  {
   "cell_type": "markdown",
   "source": [
    "## 3. Decoder"
   ],
   "metadata": {}
  },
  {
   "cell_type": "code",
   "execution_count": 8,
   "source": [
    "class Decoder(nn.Module):\r\n",
    "    \"Generic N layer decoder with masking.\"\r\n",
    "    def __init__(self, layer, N):\r\n",
    "        super(Decoder, self).__init__()\r\n",
    "        self.layers = clones(layer, N)\r\n",
    "        self.norm = LayerNorm(layer.size)\r\n",
    "        \r\n",
    "    def forward(self, x, memory, src_mask, tgt_mask):\r\n",
    "        for layer in self.layers:\r\n",
    "            x = layer(x, memory, src_mask, tgt_mask)\r\n",
    "        return self.norm(x)"
   ],
   "outputs": [],
   "metadata": {}
  },
  {
   "cell_type": "code",
   "execution_count": 10,
   "source": [
    "class DecoderLayer(nn.Module):\r\n",
    "    \"Decoder is made of self-attn, src-attn, and feed forward (defined below)\"\r\n",
    "    def __init__(self, size, self_attn, src_attn, feed_forward, dropout):\r\n",
    "        super(DecoderLayer, self).__init__()\r\n",
    "        self.size = size\r\n",
    "        self.self_attn = self_attn\r\n",
    "        self.src_attn = src_attn\r\n",
    "        self.feed_forward = feed_forward\r\n",
    "        self.sublayer = clones(SublayerConnection(size, dropout), 3)\r\n",
    " \r\n",
    "    def forward(self, x, memory, src_mask, tgt_mask):\r\n",
    "        \"Follow Figure 1 (right) for connections.\"\r\n",
    "        m = memory\r\n",
    "        x = self.sublayer[0](x, lambda x: self.self_attn(x, x, x, tgt_mask))\r\n",
    "        x = self.sublayer[1](x, lambda x: self.src_attn(x, m, m, src_mask))\r\n",
    "        return self.sublayer[2](x, self.feed_forward)"
   ],
   "outputs": [],
   "metadata": {}
  },
  {
   "cell_type": "code",
   "execution_count": 9,
   "source": [
    "def subsequent_mask(size):\r\n",
    "    \"Mask out subsequent positions.\"\r\n",
    "    attn_shape = (1, size, size)\r\n",
    "    subsequent_mask = np.triu(np.ones(attn_shape), k=1).astype('uint8')\r\n",
    "    return torch.from_numpy(subsequent_mask) == 0"
   ],
   "outputs": [],
   "metadata": {}
  }
 ],
 "metadata": {
  "orig_nbformat": 4,
  "language_info": {
   "name": "python",
   "version": "3.8.8",
   "mimetype": "text/x-python",
   "codemirror_mode": {
    "name": "ipython",
    "version": 3
   },
   "pygments_lexer": "ipython3",
   "nbconvert_exporter": "python",
   "file_extension": ".py"
  },
  "kernelspec": {
   "name": "python3",
   "display_name": "Python 3.8.8 64-bit ('datasci': conda)"
  },
  "interpreter": {
   "hash": "23d8489b17aa989cee42bd3f3e82cc035b4cfa42fa1ea343caf5051171f57614"
  }
 },
 "nbformat": 4,
 "nbformat_minor": 2
}